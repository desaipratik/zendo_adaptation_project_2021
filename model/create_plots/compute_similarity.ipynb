{
 "cells": [
  {
   "cell_type": "code",
   "execution_count": 7,
   "metadata": {},
   "outputs": [],
   "source": [
    "import numpy as np\n",
    "import pandas as pd\n",
    "import random as rd\n",
    "from statistics import mean\n"
   ]
  },
  {
   "cell_type": "code",
   "execution_count": 8,
   "metadata": {},
   "outputs": [],
   "source": [
    "data = pd.read_csv('model_results/normative_res_one_0_process_models_only_1kbest.csv')\n",
    "# main_data_formatted = main_data_formatted.query(\"prior_resp != 's'\")\n",
    "# main_data_formatted = main_data_formatted.reset_index(drop=True)\n",
    "# # main_data_formatted = main_data_formatted.query(\"rule_name == 'Zeta' or rule_name == 'Upsilon' or rule_name == 'Iota' or rule_name == 'Kappa' or rule_name == 'Omega'\")\n",
    "# # main_data_formatted = main_data_formatted.reset_index(drop=True)\n",
    "# print(len(main_data_formatted['prior']))\n",
    "# # main_data_formatted.to_csv('main_data_formatted_cond3_exp_trst_cut.csv'')"
   ]
  },
  {
   "cell_type": "code",
   "execution_count": 32,
   "metadata": {},
   "outputs": [
    {
     "name": "stdout",
     "output_type": "stream",
     "text": [
      "0.8069556451612904\n",
      "0.8069556451612904\n",
      "0.3947870169506411\n"
     ]
    }
   ],
   "source": [
    "# subj similiarity \n",
    "subj_prior = list(data['prior'])\n",
    "subj_prior = [eval(i) for i in subj_prior]\n",
    "subj_prior = [i for sublist in subj_prior for i in sublist]\n",
    "\n",
    "subj_post = list(data['posterior'])\n",
    "subj_post = [eval(i) for i in subj_post]\n",
    "subj_post = [i for sublist in subj_post for i in sublist]\n",
    "\n",
    "similiarity_counts = [prior and post or not prior and not post for prior, post in zip(subj_prior,subj_post)]\n",
    "similiaritys = sum(similiarity_counts) / len(similiarity_counts)\n",
    "print(similiaritys)\n",
    "print(mean(similiarity_counts))\n",
    "from statistics import stdev\n",
    "print(stdev(similiarity_counts))\n",
    "\n",
    "similiarity_r = []\n",
    "\n",
    "# count = 0\n",
    "# intermediate_count = []\n",
    "# for i in similiarity:\n",
    "#     intermediate_count.append(i)\n",
    "#     if len(intermediate_count) == 8:\n",
    "#         similiarity_r.append(mean(intermediate_count))\n",
    "#         intermediate_count = []\n",
    "\n",
    "# print(len(similiarity_r))\n",
    "# print(stdev(similiarity_r))\n",
    "# print(mean(similiarity_short))\n",
    "# # similiaritys = sum(similiarityr) / len(similiarityr)\n",
    "# print(similiaritys)"
   ]
  },
  {
   "cell_type": "code",
   "execution_count": 24,
   "metadata": {},
   "outputs": [
    {
     "name": "stdout",
     "output_type": "stream",
     "text": [
      "0.514616935483871\n",
      "0.4999123013714658\n",
      "0.514616935483871\n"
     ]
    }
   ],
   "source": [
    "# model similiarity \n",
    "from statistics import mean, stdev\n",
    "mod_prior = list(data['raw_probs_all_subjects_prior'])\n",
    "mod_prior = [eval(i) for i in mod_prior]\n",
    "mod_prior = mod_prior[0]\n",
    "mod_post = [np.random.choice([True,False],p=[i,1-i]) for i in mod_prior]\n",
    "\n",
    "mod_post = list(data['raw_probs_all_subjects_post_all'])\n",
    "mod_post = [eval(i) for i in mod_post]\n",
    "mod_post = mod_post[0]\n",
    "mod_post = [np.random.choice([True,False],p=[i,1-i]) for i in mod_post]\n",
    "\n",
    "\n",
    "similiarity1 = [prior and post or not prior and not post for prior, post in zip(mod_prior,mod_post)]\n",
    "similiarity = sum(similiarity1) / len(similiarity1)\n",
    "sim_num = []\n",
    "for i in similiarity1:\n",
    "    if i == True:\n",
    "        sim_num.append(1)\n",
    "    else:\n",
    "        sim_num.append(0)\n",
    "print(similiarity)\n",
    "print(stdev(sim_num))\n",
    "print(mean(sim_num))\n",
    "# similiarity_percentages =  [1 if i == True else 0 for i in similiarity1]\n",
    "# similiarity_short = []\n",
    "\n",
    "\n",
    "# count = 0\n",
    "# similarity_short = []\n",
    "# intermediate_count = []\n",
    "# for i in similiarity_percentages:\n",
    "#     intermediate_count.append(i)\n",
    "#     if len(intermediate_count) == 8:\n",
    "#         similiarity_short.append(mean(intermediate_count))\n",
    "#         intermediate_count = []\n",
    "\n",
    "# # print(similiarity_short)\n",
    "# print(mean(similiarity_short))\n"
   ]
  },
  {
   "cell_type": "code",
   "execution_count": 87,
   "metadata": {},
   "outputs": [
    {
     "name": "stdout",
     "output_type": "stream",
     "text": [
      "0.29885507265342115\n",
      "0.1559247148683072\n",
      "0.21837915351804765\n",
      "0.2229221080085453\n",
      "0.6939655172413793\n"
     ]
    }
   ],
   "source": [
    "# descriptives \n",
    "#\n",
    "print(stdev(similiarity_short))\n",
    "print(stdev(similiarity_r))\n",
    "print(stdev(data['prior_accuracy']))\n",
    "print(stdev(data['posterior_accuracy']))\n",
    "print(mean(data['posterior_accuracy']))\n",
    "# statistics t(data['prior_accuracy'], data['posterior_accuracy'])"
   ]
  },
  {
   "cell_type": "code",
   "execution_count": 91,
   "metadata": {},
   "outputs": [
    {
     "name": "stdout",
     "output_type": "stream",
     "text": [
      "['Init. acc. subj.', 'Rev. acc. subj.', 'Union: subj.', 'Union: model']\n",
      "[0.7025862068965517, 0.6939655172413793, 0.9109195402298851, 0.6163793103448276]\n",
      "[0.023412702783396598, 0.023899758628842614, 0.016716884130132118, 0.03204062694915927]\n"
     ]
    },
    {
     "data": {
      "image/png": "[encoded data removed]",
      "text/plain": [
       "<Figure size 432x288 with 1 Axes>"
      ]
     },
     "metadata": {
      "needs_background": "light"
     },
     "output_type": "display_data"
    }
   ],
   "source": [
    "# normality checks \n",
    "# from matplotlib import pyplot as plt\n",
    "# %matplotlib inline\n",
    "# plot_data = pd.DataFrame({'means': [mean(data['prior_accuracy']), mean(data['posterior_accuracy']),mean(data['match_perc']),mean(similiarity_percentages)]},\n",
    "# #                         index=[\"Init. Accuracy\", \"Rev. Accuracy\", \"Union\"])\n",
    "\n",
    "# # plot_data['means'].plot(kind='Bar')\n",
    "# plt.xticks(rotation=0)\n",
    "# plt.errorbar(, y, xerr=0.2, yerr=0.4)\n",
    "# plt.ylabel(\"Percentage\")\n",
    "# plt.savefig('model_res_pdfs/c1_empirical_res.pdf')\n",
    "\n",
    "import numpy as np\n",
    "import matplotlib.pyplot as plt\n",
    "from scipy.stats import sem\n",
    "# if using a Jupyter notebook, include:\n",
    "%matplotlib inline\n",
    "\n",
    "x = [\"Init. acc. subj.\", \"Rev. acc. subj.\", \"Union: subj.\", \"Union: model\"]\n",
    "y = [mean(data['prior_accuracy']),mean(data['posterior_accuracy']),mean(similiarity_r),mean(similiarity_short)]\n",
    "yerr = [sem(data['prior_accuracy']), sem(data['posterior_accuracy']),sem(similiarity_r),sem(similiarity_short)]\n",
    "\n",
    "print(x)\n",
    "print(y)\n",
    "print(yerr)\n",
    "fig, ax = plt.subplots()\n",
    "\n",
    "\n",
    "ax.bar(x, y,\n",
    "            yerr=yerr, color='grey')\n",
    "\n",
    "\n",
    "ax.set_xlabel('')\n",
    "ax.set_ylabel('Percentage')\n",
    "ax.set_title('Results Exp. 1')\n",
    "\n",
    "\n",
    "\n",
    "plt.savefig('model_res_pdfs/c3_empirical_res.pdf')\n",
    "plt.show()\n",
    "\n",
    "\n",
    "\n",
    "\n"
   ]
  },
  {
   "cell_type": "code",
   "execution_count": 39,
   "metadata": {},
   "outputs": [
    {
     "name": "stdout",
     "output_type": "stream",
     "text": [
      "1984\n",
      "1984\n",
      "0.514616935483871\n",
      "0.8069556451612904\n",
      "WilcoxonResult(statistic=105105.0, pvalue=3.8805980588272163e-75)\n"
     ]
    }
   ],
   "source": [
    "# nonparametric t test \n",
    "from scipy.stats import wilcoxon\n",
    "# accuracy \n",
    "# wilcoxon(data['prior_accuracy'],data['posterior_accuracy'])\n",
    "\n",
    "# union\n",
    "# print(len(similiarity))\n",
    "print(len(sim_num))\n",
    "print(len(similiarity_counts))\n",
    "print(mean(sim_num))\n",
    "print(mean(similiarity_counts))\n",
    "# print(len(similiarity))\n",
    "# print(wilcoxon(data['prior_accuracy'],data['posterior_accuracy']))\n",
    "# print(mean(data['prior_accuracy']))\n",
    "# print(mean(data['posterior_accuracy']))\n",
    "print(wilcoxon(similiarity_counts,sim_num))"
   ]
  },
  {
   "cell_type": "code",
   "execution_count": 87,
   "metadata": {},
   "outputs": [
    {
     "name": "stdout",
     "output_type": "stream",
     "text": [
      "['Init. rule subj.', 'Rev. label Norm.', 'Tree regrowing', 'Tree Surgery']\n",
      "[0.10357, 0.10357, 0.1037, 0.11062]\n"
     ]
    },
    {
     "data": {
      "image/png": "[encoded data removed]",
      "text/plain": [
       "<Figure size 432x288 with 1 Axes>"
      ]
     },
     "metadata": {
      "needs_background": "light"
     },
     "output_type": "display_data"
    }
   ],
   "source": [
    "# correct rule percentage \n",
    "x = [\"Init. rule subj.\", \"Rev. label Norm.\", \"Tree regrowing\", \"Tree Surgery\"]\n",
    "y = [0.10357,0.3454,0.1037,0.11062]#cond1\n",
    "y = [0.10357,0.10357,0.1037,0.11062]#cond1\n",
    "# y = [0.11805555555555555,0.3847,0.11827083333333333,0.12478472222222223]# cond2\n",
    "# y = [0.09195402298850575,0.2002,0.08625287356321838,0.09235632183908046]#cond3\n",
    "yerr = [0.009121068788135801, 0.027856888688947423, 0.009106819642643,0.009059906756188995]#cond1\n",
    "# yerr = [0.026983346503309316, 0.0398829115603547, 0.02697526713095035,0.02661619488482699]#cond2\n",
    "# yerr = [0.031159469919054373,0.041378110317774,0.029464063524890304,0.02864096236529486]#cond3\n",
    "\n",
    "\n",
    "\n",
    "print(x)\n",
    "print(y)\n",
    "# print(yerr)\n",
    "fig, ax = plt.subplots()\n",
    "\n",
    "\n",
    "ax.bar(x, y,yerr=yerr, color='grey')\n",
    "\n",
    "\n",
    "ax.set_xlabel('')\n",
    "ax.set_ylabel('Percentage')\n",
    "ax.set_title('Results Exp. 2')\n",
    "\n",
    "# plt.savefig('model_res_pdfs/c3_corr_perct.pdf')\n",
    "plt.show()\n"
   ]
  },
  {
   "cell_type": "code",
   "execution_count": 94,
   "metadata": {},
   "outputs": [
    {
     "name": "stdout",
     "output_type": "stream",
     "text": [
      "0.20025287356321841\n",
      "0.041378110317774\n"
     ]
    }
   ],
   "source": [
    "c = data['correct_rule_perc_post_all']\n",
    "print(mean(data['correct_rule_perc_post_all'])/2000)\n",
    "c = [i/2000 for i in c]\n",
    "print(sem(c))"
   ]
  },
  {
   "cell_type": "code",
   "execution_count": 3,
   "metadata": {},
   "outputs": [
    {
     "ename": "NameError",
     "evalue": "name 'main_data_formatted' is not defined",
     "output_type": "error",
     "traceback": [
      "\u001b[0;31m---------------------------------------------------------------------------\u001b[0m",
      "\u001b[0;31mNameError\u001b[0m                                 Traceback (most recent call last)",
      "\u001b[0;32m<ipython-input-3-0324cd40f167>\u001b[0m in \u001b[0;36m<module>\u001b[0;34m\u001b[0m\n\u001b[1;32m      3\u001b[0m \u001b[0;32mfrom\u001b[0m \u001b[0mscipy\u001b[0m\u001b[0;34m.\u001b[0m\u001b[0mstats\u001b[0m \u001b[0;32mimport\u001b[0m \u001b[0mttest_ind\u001b[0m\u001b[0;34m,\u001b[0m \u001b[0msem\u001b[0m\u001b[0;34m\u001b[0m\u001b[0;34m\u001b[0m\u001b[0m\n\u001b[1;32m      4\u001b[0m \u001b[0;32mfrom\u001b[0m \u001b[0mscipy\u001b[0m\u001b[0;34m.\u001b[0m\u001b[0mstats\u001b[0m \u001b[0;32mimport\u001b[0m \u001b[0mwilcoxon\u001b[0m\u001b[0;34m\u001b[0m\u001b[0;34m\u001b[0m\u001b[0m\n\u001b[0;32m----> 5\u001b[0;31m \u001b[0mdata\u001b[0m \u001b[0;34m=\u001b[0m \u001b[0mmain_data_formatted\u001b[0m\u001b[0;34m\u001b[0m\u001b[0;34m\u001b[0m\u001b[0m\n\u001b[0m\u001b[1;32m      6\u001b[0m \u001b[0mexpertise\u001b[0m \u001b[0;34m=\u001b[0m \u001b[0mdata\u001b[0m\u001b[0;34m[\u001b[0m\u001b[0;34m'expertise_q'\u001b[0m\u001b[0;34m]\u001b[0m\u001b[0;34m\u001b[0m\u001b[0;34m\u001b[0m\u001b[0m\n\u001b[1;32m      7\u001b[0m \u001b[0mtrustworthy\u001b[0m \u001b[0;34m=\u001b[0m \u001b[0mdata\u001b[0m\u001b[0;34m[\u001b[0m\u001b[0;34m'trustworthy_q'\u001b[0m\u001b[0;34m]\u001b[0m\u001b[0;34m\u001b[0m\u001b[0;34m\u001b[0m\u001b[0m\n",
      "\u001b[0;31mNameError\u001b[0m: name 'main_data_formatted' is not defined"
     ]
    }
   ],
   "source": [
    "# check if exp or trust mod acc improve in cond two\n",
    "from statistics import mean,stdev, median, mode\n",
    "from scipy.stats import ttest_ind, sem\n",
    "from scipy.stats import wilcoxon\n",
    "data = main_data_formatted\n",
    "expertise = data['expertise_q']\n",
    "trustworthy = data['trustworthy_q']\n",
    "print(median(expertise))\n",
    "init_acc = data['prior_accuracy']\n",
    "rev_acc = data['posterior_accuracy']\n",
    "low_ex_acc_init = []\n",
    "high_ex_acc_init = []\n",
    "low_ex_acc_rev = []\n",
    "high_ex_acc_rev = []\n",
    "ind = 0\n",
    "for a in expertise:\n",
    "    if a > 9:\n",
    "        high_ex_acc_init.append(init_acc[ind])\n",
    "        high_ex_acc_rev.append(rev_acc[ind])\n",
    "    elif a <=9:\n",
    "        low_ex_acc_init.append(init_acc[ind])\n",
    "        low_ex_acc_rev.append(rev_acc[ind])\n",
    "        \n",
    "    ind+=1\n",
    "\n",
    "print(len(low_ex_acc_init))\n",
    "print(len(low_ex_acc_rev))\n",
    "print(len(high_ex_acc_init))\n",
    "print(len(high_ex_acc_rev))\n",
    "\n",
    "        \n",
    "print(mean(low_ex_acc_init))\n",
    "print(mean(low_ex_acc_rev))\n",
    "print(mean(high_ex_acc_init))\n",
    "print(mean(high_ex_acc_rev))\n",
    "print(sem(low_ex_acc_init))\n",
    "print(sem(low_ex_acc_rev))\n",
    "print(sem(high_ex_acc_init))\n",
    "print(sem(high_ex_acc_rev))\n",
    "\n",
    "print(wilcoxon(low_ex_acc_init,low_ex_acc_rev ))\n",
    "print(wilcoxon(high_ex_acc_init,high_ex_acc_rev ))\n"
   ]
  },
  {
   "cell_type": "code",
   "execution_count": 2,
   "metadata": {},
   "outputs": [
    {
     "name": "stdout",
     "output_type": "stream",
     "text": [
      "['init_acc_l_t', 'rev_acc_l_t', 'init_acc_h_t', 'rev_acc_h_t']\n",
      "[0.725, 0.721875, 0.70703125, 0.748046875]\n",
      "[0.023258148157069652, 0.023843399791296436, 0.030651353001918433, 0.02776893596104255]\n"
     ]
    },
    {
     "data": {
      "image/png": "[encoded data removed]",
      "text/plain": [
       "<Figure size 432x288 with 1 Axes>"
      ]
     },
     "metadata": {
      "needs_background": "light"
     },
     "output_type": "display_data"
    }
   ],
   "source": [
    "# normality checks \n",
    "# from matplotlib import pyplot as plt\n",
    "# %matplotlib inline\n",
    "# plot_data = pd.DataFrame({'means': [mean(data['prior_accuracy']), mean(data['posterior_accuracy']),mean(data['match_perc']),mean(similiarity_percentages)]},\n",
    "# #                         index=[\"Init. Accuracy\", \"Rev. Accuracy\", \"Union\"])\n",
    "\n",
    "# # plot_data['means'].plot(kind='Bar')\n",
    "# plt.xticks(rotation=0)\n",
    "# plt.errorbar(, y, xerr=0.2, yerr=0.4)\n",
    "# plt.ylabel(\"Percentage\")\n",
    "# plt.savefig('model_res_pdfs/c1_empirical_res.pdf')\n",
    "\n",
    "import numpy as np\n",
    "import matplotlib.pyplot as plt\n",
    "from scipy.stats import sem\n",
    "# if using a Jupyter notebook, include:\n",
    "%matplotlib inline\n",
    "\n",
    "x = [\"init_acc_l_t\", \"rev_acc_l_t\", \"init_acc_h_t\", \"rev_acc_h_t\"]\n",
    "y = [0.7250,.721875,0.70703125,0.748046875]\n",
    "yerr = [0.023258148157069652, 0.023843399791296436,0.030651353001918433,0.02776893596104255]\n",
    "\n",
    "print(x)\n",
    "print(y)\n",
    "print(yerr)\n",
    "fig, ax = plt.subplots()\n",
    "\n",
    "\n",
    "ax.bar(x, y,\n",
    "            yerr=yerr, color='grey')\n",
    "\n",
    "\n",
    "ax.set_xlabel('')\n",
    "ax.set_ylabel('Percentage')\n",
    "ax.set_title('Results Exp. 1')\n",
    "\n",
    "\n",
    "\n",
    "plt.savefig('model_res_pdfs/c2_empirical_res_ms.pdf')\n",
    "plt.show()\n",
    "\n",
    "\n",
    "\n",
    "\n"
   ]
  },
  {
   "cell_type": "code",
   "execution_count": 56,
   "metadata": {},
   "outputs": [],
   "source": [
    "init_deriv = [0.00010288065833333334, 0.000925925925925926, 1.587664482040339e-08, 5.29221493484225e-09, 0.000925925925925926, 0.00010288065833333334, 0.00010288065833333334, 0.00010288065833333334, 2.857796067672611e-07, 0.00010288065833333334, 0.00030864197530864197, 0.000925925925925926, 1.512407103007043e-16, 1.361166394067506e-15, 2.857796067672611e-07, 9.525986882716047e-08, 2.45009950932151e-13, 0.00010288065833333334, 1.7640716431833446e-09, 2.381496720679012e-08, 1.3611663940675058e-14, 0.00010288065833333334, 0.00010288065833333334, 0.0002314814814814815, 0.00010288065833333334, 2.857796067672611e-07, 0.00030864197530864197, 1.764071644947416e-10, 0.00010288065833333334, 0.001851851851851852, 1.2250497546607553e-13, 1.4700597055929063e-12, 5.292214940134463e-10, 0.000925925925925926, 7.144490169181526e-08, 7.144490162037036e-08, 7.144490162037036e-08, 8.166998364405036e-13, 0.00010288065833333334, 8.573388203017832e-07, 1.3230537350336157e-10, 0.00010288065833333334, 2.5720164583333332e-05, 8.573388203017832e-07, 1.5876644804526746e-08, 0.00010288065833333334, 9.525986882716047e-08, 0.00020576131666666665, 9.525986882716047e-08, 5.292214934842248e-09, 5.880238816491386e-11, 1.764071644947416e-10, 2.2050895583893595e-11, 1.8905088768682962e-16, 3.6751492566319675e-12, 9.525986882716047e-08, 1.764071644947416e-10, 5.880238816491386e-11, 8.573388203017832e-07, 1.587664482040339e-09, 0.000925925925925926, 2.161075535846828e-23, 1.3611663940675058e-14, 1.7640716431833446e-09, 3.024814199964459e-14, 0.00030864197530864197, 0.00010288065833333334, 2.857796067672611e-07, 0.00010288065833333334, 2.1433470507544582e-07, 0.000925925925925926, 1.3230537350336157e-10, 0.00010288065833333334, 0.00010288065833333334, 4.900199013742821e-13, 0.00010288065833333334, 1.512407103007043e-16, 1.7640716431833446e-09, 3.024814199964459e-14, 1.225049754660755e-13, 1.7640716431833446e-09, 1.7640716431833446e-09, 1.7640716431833446e-09, 1.7640716431833446e-09, 0.00010288065833333334, 2.381496720679012e-08, 8.573388203017832e-07, 0.00030864197530864197, 0.000925925925925926, 3.024814199964459e-14, 0.00010288065833333334, 0.00010288065833333334, 5.292214934842248e-09, 0.00010288065833333334, 4.2866941015089163e-07, 3.024814199964459e-14, 0.0002314814814814815, 0.00010288065833333334, 0.00010288065833333334, 2.857796067672611e-07, 5.1440329218107e-06, 5.953741807651272e-10, 0.000925925925925926, 1.4288980338363054e-07, 0.00010288065833333334, 4.537221309021131e-15, 0.00010288065833333334, 2.857796067672611e-07, 0.00030864197530864197, 8.166998364405036e-13, 4.762993446121017e-08, 3.9691612051008474e-10, 9.452544384341481e-17, 0.000925925925925926, 0.00010288065833333334, 1.9845806025504237e-10, 0.0006944444444444445, 1.7640716431833446e-09, 8.573388203017832e-07, 9.525986882716047e-08, 0.000925925925925926, 2.381496720679012e-08, 1.9051973746380125e-06, 0.00010288065833333334, 0.0002314814814814815, 0.00010288065833333334, 0.00030864197530864197, 0.00010288065833333334, 0.00030864197530864197, 2.857796067672611e-07, 5.671526641947941e-17, 7.144490162037036e-08, 0.00010288065833333334, 8.402261683372468e-18, 2.857796067672611e-07, 0.00010288065833333334, 4.900199008842623e-12, 1.4288980338363054e-07, 8.573388203017832e-07, 2.6791838134430724e-08, 1.4288980338363054e-07, 7.656560966629721e-15, 0.000925925925925926, 1.7640716431833446e-09, 1.7640716431833446e-09, 1.7640716431833446e-09, 3.024814199964459e-14, 1.7640716431833446e-09, 4.410179116778719e-11, 0.00010288065833333334, 1.7640716431833446e-09, 0.0002314814814814815, 1.587664482040339e-09, 7.350298520614236e-12, 6.430041152263374e-07, 4.822530864197531e-07, 0.000925925925925926, 8.573388203017832e-07, 0.000925925925925926, 1.7146776388888887e-05, 3.024814199964459e-14, 1.5876644804526746e-08, 0.00010288065833333334, 6.301696268831045e-18, 0.00010288065833333334, 2.857796067672611e-07, 2.5720164583333332e-05, 8.573388203017832e-07, 8.573388203017832e-07, 8.573388203017832e-07, 0.000925925925925926, 9.525986882716047e-08, 0.0002314814814814815, 1.587664482040339e-09, 3.6751492639822663e-13, 0.000925925925925926, 0.00010288065833333334, 2.1433470507544582e-07, 0.00010288065833333334, 0.00010288065833333334, 0.00010288065833333334, 3.175328960905349e-08, 0.0002314814814814815, 4.2866941015089163e-07, 1.7640716431833446e-09, 3.9691612051008474e-10, 0.00010288065833333334, 4.2866941015089163e-07, 8.573388203017832e-07, 8.573388203017832e-07, 0.000925925925925926, 8.573388203017832e-07, 0.00010288065833333334, 0.0002314814814814815, 0.000925925925925926, 4.900199013742824e-12, 4.900199013742824e-12, 1.6333996712476075e-12, 6.430041152263374e-07, 4.41017911236854e-11, 2.857796067672611e-07, 9.525986882716047e-08, 0.00030864197530864197, 0.000925925925925926, 7.716049375e-05, 0.001851851851851852, 2.2050895583893595e-11, 0.0002314814814814815, 2.857796067672611e-07, 1.587664482040339e-09, 0.00010288065833333334, 0.000925925925925926, 0.000925925925925926, 1.587664482040339e-09, 4.762993446121017e-08, 8.573388203017832e-07, 0.00010288065833333334, 0.0002314814814814815, 0.000925925925925926, 8.573388203017832e-07, 1.488435451912818e-10, 0.00010288065833333334, 0.00010288065833333334, 0.00010288065833333334, 2.857796067672611e-07, 0.00010288065833333334, 1.225049754660755e-13, 2.857796067672611e-07, 8.573388203017832e-07, 8.573388203017832e-07, 8.573388203017832e-07, 8.573388203017832e-07, 2.857796067672611e-07, 1.7640716431833446e-09, 0.00010288065833333334, 0.00010288065833333334, 0.00010288065833333334, 0.00010288065833333334, 5.292214934842248e-09, 2.857796067672611e-07, 0.00010288065833333334, 2.381496720679012e-08, 0.00010288065833333334, 2.857796067672611e-07, 0.00030864197530864197, 0.0002314814814814815, 1.7640716431833446e-09, 3.9691612051008474e-10]\n",
    "# print(mean(init_deriv))\n",
    "# init_deriv = [np.log(i) for i in init_deriv]\n",
    "rev_deriv = [0.00010288065833333334, 0.000925925925925926, 1.4700597055929065e-11, 2.2686106567791764e-16, 1.0, 0.00010288065833333334, 0.00010288065833333334, 2.381496720679012e-08, 2.857796067672611e-07, 0.00030864197530864197, 5.292214934842248e-09, 0.00010288065833333334, 2.3339615787145745e-20, 0.000925925925925926, 2.857796067672611e-07, 9.525986882716047e-08, 2.6461074700672315e-10, 0.00010288065833333334, 2.857796067672611e-07, 2.5720164583333332e-05, 2.857796067672611e-07, 0.00010288065833333334, 0.00010288065833333334, 0.0002314814814814815, 0.00010288065833333334, 2.857796067672611e-07, 0.00010288065833333334, 5.715592129629629e-07, 0.00010288065833333334, 1.587664482040339e-09, 1.2250497546607553e-13, 1.4700597055929063e-12, 0.000925925925925926, 0.00010288065833333334, 7.144490169181526e-08, 7.144490162037036e-08, 1.3230537323875085e-09, 9.525986882716047e-08, 0.00010288065833333334, 2.857796067672611e-07, 1.4288980338363054e-07, 0.00010288065833333334, 9.922903002829216e-10, 8.573388203017832e-07, 1.5876644804526746e-08, 0.00010288065833333334, 0.00030864197530864197, 0.00020576131666666665, 4.41017911236854e-11, 0.00010288065833333334, 1.6333996712476071e-13, 4.083499178119018e-14, 0.001851851851851852, 1.8905088768682962e-16, 3.6751492566319675e-12, 1.0716735253772291e-07, 1.7146776406035665e-06, 5.292214940134463e-10, 8.573388203017832e-07, 0.000925925925925926, 0.000925925925925926, 2.161075535846828e-23, 1.4700597055929065e-11, 1.4288980338363052e-07, 0.00010288065833333334, 0.00010288065833333334, 0.00010288065833333334, 2.857796067672611e-07, 0.00010288065833333334, 0.0002314814814814815, 0.000925925925925926, 1.3611663940675058e-14, 2.857796067672611e-07, 0.00010288065833333334, 5.1440329218107e-06, 0.00010288065833333334, 1.512407103007043e-16, 5.953741807651272e-10, 3.024814199964459e-14, 8.573388203017832e-07, 1.7640716431833446e-09, 1.7640716431833446e-09, 1.7640716431833446e-09, 1.7640716431833446e-09, 0.00010288065833333334, 0.0002314814814814815, 8.573388203017832e-07, 2.857796067672611e-07, 0.000925925925925926, 3.024814199964459e-14, 0.00010288065833333334, 2.857796067672611e-07, 4.762993441358024e-08, 0.00010288065833333334, 2.1433470507544582e-07, 3.024814199964459e-14, 0.0002314814814814815, 0.00030864197530864197, 2.857796067672611e-07, 0.00010288065833333334, 0.001851851851851852, 0.000925925925925926, 0.000925925925925926, 1.3230537350336157e-10, 0.00010288065833333334, 4.537221309021131e-15, 0.00010288065833333334, 2.857796067672611e-07, 3.500942371572803e-20, 8.166998364405036e-13, 4.900199013742824e-12, 1.3230537350336157e-10, 0.0002314814814814815, 2.857796067672611e-07, 0.00010288065833333334, 2.857796067672611e-07, 3.024814199964459e-14, 1.7640716431833446e-09, 8.573388203017832e-07, 9.525986882716047e-08, 0.00010288065833333334, 0.0002314814814814815, 0.00010288065833333334, 0.00010288065833333334, 0.0002314814814814815, 0.00010288065833333334, 3.9691612051008474e-10, 1.3230537350336157e-10, 0.00030864197530864197, 2.857796067672611e-07, 0.00010288065833333334, 0.00010288065833333334, 0.00010288065833333334, 0.0002314814814814815, 1.3611663940675058e-14, 1.7640716431833446e-09, 1.4288980338363054e-07, 1.4288980338363054e-07, 8.573388203017832e-07, 0.000925925925925926, 8.573388203017832e-07, 5.5127238959734e-12, 0.000925925925925926, 1.7640716431833446e-09, 1.7640716431833446e-09, 1.7640716431833446e-09, 3.024814199964459e-14, 1.7640716431833446e-09, 7.562035515035218e-16, 0.000925925925925926, 1.7640716431833446e-09, 0.0002314814814814815, 5.292214940134463e-10, 4.2866941015089163e-07, 0.000925925925925926, 0.0002314814814814815, 0.00010288065833333334, 1.3230537350336157e-10, 0.000925925925925926, 1.7146776388888887e-05, 3.024814199964459e-14, 1.5876644804526746e-08, 0.00010288065833333334, 6.805831970337529e-15, 0.00010288065833333334, 2.857796067672611e-07, 2.5720164583333332e-05, 8.573388203017832e-07, 8.573388203017832e-07, 8.573388203017832e-07, 0.000925925925925926, 1.225049754660755e-13, 2.625706773428189e-19, 4.410179116778719e-12, 3.9691612051008474e-10, 0.00010288065833333334, 0.00010288065833333334, 0.0002314814814814815, 0.00010288065833333334, 2.857796067672611e-07, 0.00010288065833333334, 7.938322410201695e-10, 0.0002314814814814815, 4.2866941015089163e-07, 1.7640716431833446e-09, 3.9691612051008474e-10, 0.00010288065833333334, 4.2866941015089163e-07, 8.573388203017832e-07, 8.573388203017832e-07, 0.000925925925925926, 8.573388203017832e-07, 0.00010288065833333334, 0.0002314814814814815, 0.000925925925925926, 4.900199013742824e-12, 4.900199013742824e-12, 4.41017911236854e-11, 3.9691612051008474e-10, 0.00010288065833333334, 2.857796067672611e-07, 0.000925925925925926, 0.00030864197530864197, 0.000925925925925926, 8.573388203017832e-07, 0.001851851851851852, 2.2050895583893595e-11, 0.0002314814814814815, 2.857796067672611e-07, 0.001851851851851852, 0.00010288065833333334, 1.3230537350336157e-10, 0.000925925925925926, 1.587664482040339e-09, 0.000925925925925926, 8.573388203017832e-07, 0.00010288065833333334, 0.0002314814814814815, 0.00010288065833333334, 2.857796067672611e-07, 0.0002314814814814815, 1.3230537350336157e-10, 0.00010288065833333334, 0.00010288065833333334, 2.857796067672611e-07, 0.00010288065833333334, 1.3230537350336157e-10, 2.857796067672611e-07, 0.000925925925925926, 7.350298527964533e-13, 8.573388203017832e-07, 8.573388203017832e-07, 2.857796067672611e-07, 1.7640716431833446e-09, 0.00010288065833333334, 1.225049754660755e-13, 0.00010288065833333334, 2.857796067672611e-07, 5.292214934842248e-09, 2.857796067672611e-07, 0.00010288065833333334, 0.0002314814814814815, 0.00010288065833333334, 2.5720164583333332e-05, 0.00030864197530864197, 0.0002314814814814815, 5.880238810611149e-10, 0.000462962962962963]\n",
    "# print(mean(rev_deriv))\n",
    "# rev_deriv = [np.log(i) for i in rev_deriv]\n"
   ]
  },
  {
   "cell_type": "code",
   "execution_count": 40,
   "metadata": {},
   "outputs": [
    {
     "data": {
      "text/plain": [
       "(array([204.,  20.,   0.,   1.,   0.,  21.,   0.,   0.,   0.,   2.]),\n",
       " array([2.16107554e-23, 1.85185185e-04, 3.70370370e-04, 5.55555556e-04,\n",
       "        7.40740741e-04, 9.25925926e-04, 1.11111111e-03, 1.29629630e-03,\n",
       "        1.48148148e-03, 1.66666667e-03, 1.85185185e-03]),\n",
       " <a list of 10 Patch objects>)"
      ]
     },
     "execution_count": 40,
     "metadata": {},
     "output_type": "execute_result"
    },
    {
     "data": {
      "image/png": "[encoded data removed]",
      "text/plain": [
       "<Figure size 432x288 with 1 Axes>"
      ]
     },
     "metadata": {
      "needs_background": "light"
     },
     "output_type": "display_data"
    }
   ],
   "source": [
    "plt.hist(init_deriv)\n"
   ]
  },
  {
   "cell_type": "code",
   "execution_count": 41,
   "metadata": {},
   "outputs": [
    {
     "data": {
      "text/plain": [
       "(array([247.,   0.,   0.,   0.,   0.,   0.,   0.,   0.,   0.,   1.]),\n",
       " array([2.16107554e-23, 1.00000000e-01, 2.00000000e-01, 3.00000000e-01,\n",
       "        4.00000000e-01, 5.00000000e-01, 6.00000000e-01, 7.00000000e-01,\n",
       "        8.00000000e-01, 9.00000000e-01, 1.00000000e+00]),\n",
       " <a list of 10 Patch objects>)"
      ]
     },
     "execution_count": 41,
     "metadata": {},
     "output_type": "execute_result"
    },
    {
     "data": {
      "image/png": "[encoded data removed]",
      "text/plain": [
       "<Figure size 432x288 with 1 Axes>"
      ]
     },
     "metadata": {
      "needs_background": "light"
     },
     "output_type": "display_data"
    }
   ],
   "source": [
    "plt.hist(rev_deriv)"
   ]
  },
  {
   "cell_type": "code",
   "execution_count": 55,
   "metadata": {
    "scrolled": true
   },
   "outputs": [
    {
     "name": "stdout",
     "output_type": "stream",
     "text": [
      "-3917.595491027118\n",
      "-3797.7602557139635\n"
     ]
    }
   ],
   "source": [
    "print(np.sum(init_deriv))\n",
    "print(np.sum(rev_deriv))\n"
   ]
  },
  {
   "cell_type": "code",
   "execution_count": 61,
   "metadata": {},
   "outputs": [
    {
     "name": "stdout",
     "output_type": "stream",
     "text": [
      "-15.79675601220612\n",
      "-15.313549418201466\n"
     ]
    }
   ],
   "source": [
    "print(-3917.595491027118/248)\n",
    "print(-3797.7602557139635/248)"
   ]
  },
  {
   "cell_type": "code",
   "execution_count": 36,
   "metadata": {},
   "outputs": [
    {
     "name": "stdout",
     "output_type": "stream",
     "text": [
      "['mean(-LogL_init_judg)', 'mean(-LogL_rev_judg)']\n",
      "[15.79675601220612, 15.313549418201468]\n",
      "[0.5198619393035707, 0.5372055643413192]\n"
     ]
    },
    {
     "data": {
      "image/png": "[encoded data removed]",
      "text/plain": [
       "<Figure size 432x288 with 1 Axes>"
      ]
     },
     "metadata": {
      "needs_background": "light"
     },
     "output_type": "display_data"
    }
   ],
   "source": [
    "import numpy as np\n",
    "import matplotlib.pyplot as plt\n",
    "from scipy.stats import sem\n",
    "# if using a Jupyter notebook, include:\n",
    "%matplotlib inline\n",
    "\n",
    "x = [\"mean(-LogL_init_judg)\", \"mean(-LogL_rev_judg)\"]\n",
    "y = [15.79675601220612,15.313549418201468]\n",
    "yerr = [0.5198619393035707,0.5372055643413192]\n",
    "\n",
    "print(x)\n",
    "print(y)\n",
    "print(yerr)\n",
    "fig, ax = plt.subplots()\n",
    "\n",
    "\n",
    "ax.bar(x, y,\n",
    "            yerr=yerr, color='grey')\n",
    "\n",
    "\n",
    "ax.set_xlabel('')\n",
    "ax.set_ylabel('Percentage')\n",
    "ax.set_title('Results Exp. 1')\n",
    "\n",
    "\n",
    "\n",
    "plt.savefig('model_res_pdfs/c1_deriv_probs.pdf')\n",
    "plt.show()\n",
    "\n",
    "\n"
   ]
  },
  {
   "cell_type": "code",
   "execution_count": 20,
   "metadata": {},
   "outputs": [
    {
     "name": "stdout",
     "output_type": "stream",
     "text": [
      "248\n"
     ]
    }
   ],
   "source": [
    "print(len(rev_deriv))"
   ]
  },
  {
   "cell_type": "code",
   "execution_count": 63,
   "metadata": {},
   "outputs": [
    {
     "name": "stdout",
     "output_type": "stream",
     "text": [
      "['tr_learner', 'ts_learner']\n",
      "[1.078, 5.315]\n",
      "[0.5198619393035707, 0.5372055643413192]\n"
     ]
    },
    {
     "data": {
      "image/png": "[encoded data removed]",
      "text/plain": [
       "<Figure size 432x288 with 1 Axes>"
      ]
     },
     "metadata": {
      "needs_background": "light"
     },
     "output_type": "display_data"
    }
   ],
   "source": [
    "# check how often correct rule was found if changed\n",
    "import numpy as np\n",
    "import matplotlib.pyplot as plt\n",
    "from scipy.stats import sem\n",
    "# if using a Jupyter notebook, include:\n",
    "%matplotlib inline\n",
    "\n",
    "x = [\"tr_learner\", \"ts_learner\"]\n",
    "y = [1.078,5.315]\n",
    "# yerr = [0.5198619393035707,0.5372055643413192]\n",
    "\n",
    "print(x)\n",
    "print(y)\n",
    "print(yerr)\n",
    "fig, ax = plt.subplots()\n",
    "\n",
    "\n",
    "ax.bar(x, y,\n",
    "           color='grey')\n",
    "\n",
    "\n",
    "ax.set_xlabel('')\n",
    "ax.set_ylabel('Percentage')\n",
    "ax.set_title('Results Exp. 1')\n",
    "\n",
    "\n",
    "\n",
    "plt.savefig('model_res_pdfs/c1_perc_corr_rule_found.pdf')\n",
    "plt.show()\n",
    "\n",
    "\n"
   ]
  },
  {
   "cell_type": "code",
   "execution_count": 65,
   "metadata": {},
   "outputs": [],
   "source": [
    "rev_prob_c2 = [1.9845806025504237e-10, 8.573388203017832e-07, 0.000925925925925926, 0.000925925925925926, 9.452544403246568e-18, 1.7146776388888887e-05, 0.00010288065833333334, 2.1433470507544582e-07, 0.000925925925925926, 0.00010288065833333334, 2.5720164583333332e-05, 1.587664482040339e-08, 2.2050895583893595e-11, 1.4288980338363054e-07, 2.20508955838936e-11, 0.0002314814814814815, 0.00010288065833333334, 1.7146776388888887e-05, 2.1433470507544582e-07, 0.0002314814814814815, 2.857796067672611e-07, 0.00010288065833333334, 4.083499182202518e-14, 0.00010288065833333334, 1.5951168680478586e-17, 0.0002314814814814815, 2.2050895583893595e-11, 1.2250497546607553e-13, 8.573388203017832e-07, 1.225049754660755e-13, 9.525986882716047e-08, 0.00010288065833333334, 8.573388203017832e-07, 1.4700597041228466e-11, 1.3611663940675058e-14, 2.126822490730478e-17, 1.9449679842071125e-21, 4.900199013742821e-12, 0.00010288065833333334, 0.000925925925925926, 0.0002314814814814815, 0.00010288065833333334, 1.587664482040339e-09, 7.562035522597254e-17, 0.000925925925925926, 0.000925925925925926, 2.2050895583893595e-11, 2.857796067672611e-07, 9.525986882716047e-08, 9.525986882716047e-08, 0.000925925925925926, 0.00010288065833333334, 0.0002314814814814815, 2.2050895583893595e-11, 0.000925925925925926, 6.805831970337529e-15, 0.0002314814814814815, 6.89090485618494e-13, 2.857796067672611e-07, 0.00010288065833333334, 1.5876644804526746e-08, 2.857796067672611e-07, 7.144490162037036e-08, 0.00010288065833333334, 0.00020576131666666665, 0.00010288065833333334, 0.00010288065833333334, 2.857796067672611e-07, 6.61526866855281e-11, 1.5876644804526746e-08, 4.762993441358024e-08, 1.4288980338363054e-07, 1.587664482040339e-09, 1.7640716431833446e-09, 3.8282804833148604e-15, 5.29221493484225e-09, 0.000925925925925926, 0.00010288065833333334, 0.000925925925925926, 8.573388203017832e-07, 1.7146776388888887e-05, 0.00010288065833333334, 0.0002314814814814815, 1.3230537350336157e-10, 0.00010288065833333334, 0.0002314814814814815, 0.00010288065833333334, 9.525986882716047e-08, 4.410179116778719e-11, 0.000925925925925926, 2.857796067672611e-07, 0.000925925925925926, 0.000925925925925926, 2.381496720679012e-08, 2.857796067672611e-07, 8.166998356238036e-14, 4.4653063557384543e-10, 1.323053735033616e-10, 1.9845806025504237e-10, 0.00010288065833333334, 2.857796067672611e-07, 0.00010288065833333334, 8.573388203017832e-07, 1.260339252505869e-17, 0.000925925925925926, 0.00010288065833333334, 2.857796067672611e-07, 2.857796067672611e-07, 1.512407103007043e-16, 1.7146776406035665e-06, 0.00010288065833333334, 0.00010288065833333334, 2.857796067672611e-07, 2.5720164583333332e-05, 0.00010288065833333334, 0.00030864197530864197, 9.525986882716047e-08, 5.953741807651272e-10, 0.0002314814814814815, 0.000925925925925926, 0.00010288065833333334, 0.00010288065833333334, 0.00010288065833333334, 0.00010288065833333334, 1.4288980338363052e-07, 0.00010288065833333334, 1.7640716431833446e-09, 4.762993446121017e-08, 1.0716735253772291e-07]\n",
    "init_prob_c2 = [1.9845806025504237e-10, 8.573388203017832e-07, 0.000925925925925926, 0.000925925925925926, 9.452544403246568e-18, 0.00030864197530864197, 0.00010288065833333334, 2.1433470507544582e-07, 0.00030864197530864197, 0.00010288065833333334, 2.5720164583333332e-05, 1.4288980338363054e-07, 2.2050895583893595e-11, 1.4288980338363054e-07, 2.20508955838936e-11, 0.0002314814814814815, 0.00010288065833333334, 8.269085835691013e-12, 0.0002314814814814815, 0.0002314814814814815, 2.857796067672611e-07, 0.00010288065833333334, 7.938322410201695e-10, 0.00010288065833333334, 4.4653063557384543e-10, 0.0002314814814814815, 2.2050895583893595e-11, 1.2250497546607553e-13, 8.573388203017832e-07, 1.225049754660755e-13, 9.525986882716047e-08, 0.00010288065833333334, 0.000925925925925926, 1.7640716431833446e-09, 1.4700597055929065e-11, 1.3611663940675058e-14, 4.410179116778719e-11, 4.900199013742821e-12, 0.00010288065833333334, 1.9051973765432097e-07, 0.0002314814814814815, 0.00010288065833333334, 1.225049754660755e-13, 7.562035522597254e-17, 0.000925925925925926, 0.000925925925925926, 2.2050895583893595e-11, 2.857796067672611e-07, 9.525986882716047e-08, 9.525986882716047e-08, 8.573388203017832e-07, 0.00010288065833333334, 0.0002314814814814815, 2.2050895583893595e-11, 0.000925925925925926, 6.805831970337529e-15, 0.0002314814814814815, 6.89090485618494e-13, 0.00010288065833333334, 0.00010288065833333334, 2.5720164583333332e-05, 2.1433470507544582e-07, 4.762993441358024e-08, 0.00010288065833333334, 2.286236849565615e-05, 8.573388203017832e-07, 0.00010288065833333334, 2.857796067672611e-07, 9.525986882716047e-08, 1.5876644804526746e-08, 1.5876644804526746e-08, 1.4288980338363054e-07, 1.587664482040339e-09, 1.7640716431833446e-09, 9.922903012752121e-11, 5.29221493484225e-09, 0.000925925925925926, 0.00010288065833333334, 0.000925925925925926, 8.573388203017832e-07, 2.857796067672611e-07, 0.00010288065833333334, 0.0002314814814814815, 1.3230537350336157e-10, 0.000925925925925926, 0.0002314814814814815, 0.00010288065833333334, 0.00010288065833333334, 4.410179116778719e-11, 0.000925925925925926, 2.857796067672611e-07, 0.000925925925925926, 0.000925925925925926, 2.381496720679012e-08, 2.857796067672611e-07, 8.166998356238036e-14, 4.4653063557384543e-10, 2.1433470507544582e-07, 1.9845806025504237e-10, 0.00010288065833333334, 2.857796067672611e-07, 0.00010288065833333334, 8.573388203017832e-07, 1.260339252505869e-17, 6.430041152263374e-07, 2.2050895583893595e-11, 2.857796067672611e-07, 4.537221313558353e-16, 1.512407103007043e-16, 1.4700597055929063e-12, 0.00010288065833333334, 0.00010288065833333334, 2.857796067672611e-07, 5.953741807651272e-10, 7.144490162037036e-08, 0.00030864197530864197, 9.525986882716047e-08, 5.953741807651272e-10, 0.0002314814814814815, 0.000925925925925926, 0.00010288065833333334, 0.00010288065833333334, 0.00010288065833333334, 0.00010288065833333334, 1.4288980338363052e-07, 0.00010288065833333334, 1.7640716431833446e-09, 4.762993446121017e-08, 2.2050895583893595e-11]\n",
    "init_deriv_2 = [np.log(i) for i in init_prob_c2]\n",
    "rev_deriv_2 = [np.log(i) for i in rev_prob_c2]"
   ]
  },
  {
   "cell_type": "code",
   "execution_count": 71,
   "metadata": {},
   "outputs": [
    {
     "name": "stdout",
     "output_type": "stream",
     "text": [
      "-15.743236257016854\n",
      "-15.733086386334808\n",
      "WilcoxonResult(statistic=306.5, pvalue=0.8892446335983476)\n"
     ]
    },
    {
     "data": {
      "image/png": "[encoded data removed]",
      "text/plain": [
       "<Figure size 432x288 with 1 Axes>"
      ]
     },
     "metadata": {
      "needs_background": "light"
     },
     "output_type": "display_data"
    }
   ],
   "source": [
    "plt.hist(init_deriv_2)\n",
    "plt.hist(rev_deriv_2)\n",
    "print(mean(init_deriv_2))\n",
    "print(mean(rev_deriv_2))\n",
    "print(wilcoxon(init_deriv_2,rev_deriv_2))"
   ]
  },
  {
   "cell_type": "code",
   "execution_count": 73,
   "metadata": {},
   "outputs": [
    {
     "name": "stdout",
     "output_type": "stream",
     "text": [
      "['mean(-LogL_init_judg)', 'mean(-LogL_rev_judg)']\n",
      "[15.743236257016854, 15.733086386334808]\n",
      "[0.7102457467746514, 0.7793158205983908]\n"
     ]
    },
    {
     "data": {
      "image/png": "[encoded data removed]",
      "text/plain": [
       "<Figure size 432x288 with 1 Axes>"
      ]
     },
     "metadata": {
      "needs_background": "light"
     },
     "output_type": "display_data"
    }
   ],
   "source": [
    "import numpy as np\n",
    "import matplotlib.pyplot as plt\n",
    "from scipy.stats import sem\n",
    "# if using a Jupyter notebook, include:\n",
    "%matplotlib inline\n",
    "\n",
    "x = [\"mean(-LogL_init_judg)\", \"mean(-LogL_rev_judg)\"]\n",
    "y = [-mean(init_deriv_2),-mean(rev_deriv_2)]\n",
    "yerr = [sem(init_deriv_2),sem(rev_deriv_2)]\n",
    "\n",
    "print(x)\n",
    "print(y)\n",
    "print(yerr)\n",
    "fig, ax = plt.subplots()\n",
    "\n",
    "\n",
    "ax.bar(x, y,\n",
    "            yerr=yerr, color='grey')\n",
    "\n",
    "\n",
    "ax.set_xlabel('')\n",
    "ax.set_ylabel('Percentage')\n",
    "ax.set_title('Results Exp. 2')\n",
    "\n",
    "\n",
    "\n",
    "plt.savefig('model_res_pdfs/c2_deriv_probs.pdf')\n",
    "plt.show()\n",
    "\n",
    "\n"
   ]
  },
  {
   "cell_type": "code",
   "execution_count": 11,
   "metadata": {},
   "outputs": [
    {
     "name": "stdout",
     "output_type": "stream",
     "text": [
      "[\"Z.exactly(lambda x1: Z.equal(x1,'blue','colour'),1,X)\", \"Z.exactly(lambda x1: Z.equal(x1,'blue','colour'),1,X)\", \"Z.exactly(lambda x1: Z.equal(x1,'blue','colour'),1,X)\", \"Z.exactly(lambda x1: Z.equal(x1,'blue','colour'),1,X)\", \"Z.exactly(lambda x1: Z.equal(x1,'blue','colour'),1,X)\", \"Z.exactly(lambda x1: Z.equal(x1,'blue','colour'),1,X)\", \"Z.exactly(lambda x1: Z.equal(x1,'blue','colour'),1,X)\", \"Z.exactly(lambda x1: Z.equal(x1,'blue','colour'),1,X)\", \"Z.exactly(lambda x1: Z.equal(x1,'blue','colour'),1,X)\", \"Z.exactly(lambda x1: Z.equal(x1,'blue','colour'),1,X)\", \"Z.exactly(lambda x1: Z.equal(x1,'blue','colour'),1,X)\", \"Z.exactly(lambda x1: Z.equal(x1,'blue','colour'),1,X)\", \"Z.exactly(lambda x1: Z.equal(x1,'blue','colour'),1,X)\", \"Z.exactly(lambda x1: Z.equal(x1,'blue','colour'),1,X)\", \"Z.exactly(lambda x1: Z.equal(x1,'blue','colour'),1,X)\", \"Z.exactly(lambda x1: Z.equal(x1,'blue','colour'),1,X)\", \"Z.exactly(lambda x1: Z.equal(x1,'blue','colour'),1,X)\", \"Z.exactly(lambda x1: Z.equal(x1,'blue','colour'),1,X)\", \"Z.exactly(lambda x1: Z.equal(x1,'blue','colour'),1,X)\", \"Z.exactly(lambda x1: Z.equal(x1,'blue','colour'),1,X)\", \"Z.exactly(lambda x1: Z.equal(x1,'blue','colour'),1,X)\", \"Z.exactly(lambda x1: Z.equal(x1,'blue','colour'),1,X)\", \"Z.exactly(lambda x1: Z.equal(x1,'blue','colour'),1,X)\", \"Z.exactly(lambda x1: Z.equal(x1,'blue','colour'),1,X)\", \"Z.exactly(lambda x1: Z.equal(x1,'blue','colour'),1,X)\", \"Z.exactly(lambda x1: Z.equal(x1,'blue','colour'),1,X)\", \"Z.exactly(lambda x1: Z.equal(x1,'blue','colour'),1,X)\", \"Z.exactly(lambda x1: Z.equal(x1,'blue','colour'),1,X)\", \"Z.exactly(lambda x1: Z.equal(x1,'blue','colour'),1,X)\", \"Z.exactly(lambda x1: Z.equal(x1,'blue','colour'),1,X)\", \"Z.exactly(lambda x1: Z.equal(x1,'blue','colour'),1,X)\", \"Z.exactly(lambda x1: Z.equal(x1,'blue','colour'),1,X)\", \"Z.exactly(lambda x1: Z.equal(x1,'blue','colour'),1,X)\", \"Z.exactly(lambda x1: Z.equal(x1,'blue','colour'),1,X)\", \"Z.exactly(lambda x1: Z.equal(x1,'blue','colour'),1,X)\", \"Z.exactly(lambda x1: Z.equal(x1,'blue','colour'),1,X)\", \"Z.exactly(lambda x1: Z.equal(x1,'blue','colour'),1,X)\", \"Z.exactly(lambda x1: Z.equal(x1,'blue','colour'),1,X)\", \"Z.exactly(lambda x1: Z.equal(x1,'blue','colour'),1,X)\", \"Z.exactly(lambda x1: Z.equal(x1,'blue','colour'),1,X)\", \"Z.exactly(lambda x1: Z.equal(x1,'blue','colour'),1,X)\", \"Z.exactly(lambda x1: Z.equal(x1,'blue','colour'),1,X)\", \"Z.exactly(lambda x1: Z.equal(x1,'blue','colour'),1,X)\", \"Z.exactly(lambda x1: Z.equal(x1,'blue','colour'),1,X)\", \"Z.exactly(lambda x1: Z.equal(x1,'blue','colour'),1,X)\", \"Z.exactly(lambda x1: Z.equal(x1,'blue','colour'),1,X)\", \"Z.exactly(lambda x1: Z.equal(x1,'blue','colour'),1,X)\", \"Z.exactly(lambda x1: Z.equal(x1,'blue','colour'),1,X)\", \"Z.exactly(lambda x1: Z.equal(x1,'blue','colour'),1,X)\", \"Z.exactly(lambda x1: Z.equal(x1,'blue','colour'),1,X)\", \"Z.exactly(lambda x1: Z.equal(x1,'blue','colour'),1,X)\", \"Z.exactly(lambda x1: Z.equal(x1,'blue','colour'),1,X)\", \"Z.exactly(lambda x1: Z.equal(x1,'blue','colour'),1,X)\", \"Z.exactly(lambda x1: Z.equal(x1,'blue','colour'),1,X)\", \"Z.exactly(lambda x1: Z.equal(x1,'blue','colour'),1,X)\", \"Z.exactly(lambda x1: Z.equal(x1,'blue','colour'),1,X)\", \"Z.exactly(lambda x1: Z.equal(x1,'blue','colour'),1,X)\", \"Z.exactly(lambda x1: Z.equal(x1,'blue','colour'),1,X)\", \"Z.exactly(lambda x1: Z.equal(x1,'blue','colour'),1,X)\", \"Z.exactly(lambda x1: Z.equal(x1,'blue','colour'),1,X)\", \"Z.exactly(lambda x1: Z.equal(x1,'blue','colour'),1,X)\", \"Z.exactly(lambda x1: Z.equal(x1,'blue','colour'),1,X)\", \"Z.exactly(lambda x1: Z.equal(x1,'blue','colour'),1,X)\", \"Z.exactly(lambda x1: Z.equal(x1,'blue','colour'),1,X)\", \"Z.exactly(lambda x1: Z.equal(x1,'blue','colour'),1,X)\", \"Z.exactly(lambda x1: Z.equal(x1,'blue','colour'),1,X)\", \"Z.exactly(lambda x1: Z.equal(x1,'blue','colour'),1,X)\", \"Z.exactly(lambda x1: Z.equal(x1,'blue','colour'),1,X)\", \"Z.exactly(lambda x1: Z.equal(x1,'blue','colour'),1,X)\", \"Z.exactly(lambda x1: Z.equal(x1,'blue','colour'),1,X)\", \"Z.exactly(lambda x1: Z.equal(x1,'blue','colour'),1,X)\", \"Z.exactly(lambda x1: Z.equal(x1,'blue','colour'),1,X)\", \"Z.exactly(lambda x1: Z.equal(x1,'blue','colour'),1,X)\", \"Z.exactly(lambda x1: Z.equal(x1,'blue','colour'),1,X)\", \"Z.exactly(lambda x1: Z.equal(x1,'blue','colour'),1,X)\", \"Z.exactly(lambda x1: Z.equal(x1,'blue','colour'),1,X)\", \"Z.exactly(lambda x1: Z.equal(x1,'blue','colour'),1,X)\", \"Z.exactly(lambda x1: Z.equal(x1,'blue','colour'),1,X)\", \"Z.exactly(lambda x1: Z.equal(x1,'blue','colour'),1,X)\", \"Z.exactly(lambda x1: Z.equal(x1,'blue','colour'),1,X)\", \"Z.exactly(lambda x1: Z.equal(x1,'blue','colour'),1,X)\", \"Z.exactly(lambda x1: Z.equal(x1,'blue','colour'),1,X)\", \"Z.exactly(lambda x1: Z.equal(x1,'blue','colour'),1,X)\", \"Z.exactly(lambda x1: Z.equal(x1,'blue','colour'),1,X)\", \"Z.exactly(lambda x1: Z.equal(x1,'blue','colour'),1,X)\", \"Z.exactly(lambda x1: Z.equal(x1,'blue','colour'),1,X)\", \"Z.exactly(lambda x1: Z.equal(x1,'blue','colour'),1,X)\", \"Z.exactly(lambda x1: Z.equal(x1,'blue','colour'),1,X)\", \"Z.exactly(lambda x1: Z.equal(x1,'blue','colour'),1,X)\", \"Z.exactly(lambda x1: Z.equal(x1,'blue','colour'),1,X)\", \"Z.exactly(lambda x1: Z.equal(x1,'blue','colour'),1,X)\", \"Z.exactly(lambda x1: Z.equal(x1,'blue','colour'),1,X)\", \"Z.exactly(lambda x1: Z.equal(x1,'blue','colour'),1,X)\", \"Z.exactly(lambda x1: Z.equal(x1,'blue','colour'),1,X)\", \"Z.exactly(lambda x1: Z.equal(x1,'blue','colour'),1,X)\", \"Z.exactly(lambda x1: Z.equal(x1,'blue','colour'),1,X)\", \"Z.exactly(lambda x1: Z.equal(x1,'blue','colour'),1,X)\", \"Z.exactly(lambda x1: Z.equal(x1,'blue','colour'),1,X)\", \"Z.exactly(lambda x1: Z.equal(x1,'blue','colour'),1,X)\", \"Z.exactly(lambda x1: Z.equal(x1,'blue','colour'),1,X)\", \"Z.exactly(lambda x1: Z.equal(x1,'blue','colour'),1,X)\", \"Z.exactly(lambda x1: Z.equal(x1,'blue','colour'),1,X)\", \"Z.exactly(lambda x1: Z.equal(x1,'blue','colour'),1,X)\", \"Z.exactly(lambda x1: Z.equal(x1,'blue','colour'),1,X)\", \"Z.exactly(lambda x1: Z.equal(x1,'blue','colour'),1,X)\", \"Z.exactly(lambda x1: Z.equal(x1,'blue','colour'),1,X)\", \"Z.exactly(lambda x1: Z.equal(x1,'blue','colour'),1,X)\", \"Z.exactly(lambda x1: Z.equal(x1,'blue','colour'),1,X)\", \"Z.exactly(lambda x1: Z.equal(x1,'blue','colour'),1,X)\", \"Z.exactly(lambda x1: Z.equal(x1,'blue','colour'),1,X)\", \"Z.exactly(lambda x1: Z.equal(x1,'blue','colour'),1,X)\", \"Z.exactly(lambda x1: Z.equal(x1,'blue','colour'),1,X)\", \"Z.exactly(lambda x1: Z.equal(x1,'blue','colour'),1,X)\", \"Z.exactly(lambda x1: Z.equal(x1,'blue','colour'),1,X)\", \"Z.exactly(lambda x1: Z.equal(x1,'blue','colour'),1,X)\", \"Z.exactly(lambda x1: Z.equal(x1,'blue','colour'),1,X)\", \"Z.exactly(lambda x1: Z.equal(x1,'blue','colour'),1,X)\", \"Z.exactly(lambda x1: Z.equal(x1,'blue','colour'),1,X)\", \"Z.exactly(lambda x1: Z.equal(x1,'blue','colour'),1,X)\", \"Z.exactly(lambda x1: Z.equal(x1,'blue','colour'),1,X)\", \"Z.exactly(lambda x1: Z.equal(x1,'blue','colour'),1,X)\", \"Z.exactly(lambda x1: Z.equal(x1,'blue','colour'),1,X)\", \"Z.exactly(lambda x1: Z.equal(x1,'blue','colour'),1,X)\", \"Z.exactly(lambda x1: Z.equal(x1,'blue','colour'),1,X)\", \"Z.exactly(lambda x1: Z.equal(x1,'blue','colour'),1,X)\", \"Z.exactly(lambda x1: Z.equal(x1,'blue','colour'),1,X)\", \"Z.exactly(lambda x1: Z.equal(x1,'blue','colour'),1,X)\", \"Z.exactly(lambda x1: Z.equal(x1,'blue','colour'),1,X)\", \"Z.exactly(lambda x1: Z.equal(x1,'blue','colour'),1,X)\", \"Z.exactly(lambda x1: Z.equal(x1,'blue','colour'),1,X)\", \"Z.exactly(lambda x1: Z.equal(x1,'blue','colour'),1,X)\", \"Z.exactly(lambda x1: Z.equal(x1,'blue','colour'),1,X)\", \"Z.exactly(lambda x1: Z.equal(x1,'blue','colour'),1,X)\", \"Z.exactly(lambda x1: Z.equal(x1,'blue','colour'),1,X)\", \"Z.exactly(lambda x1: Z.equal(x1,'blue','colour'),1,X)\", \"Z.exactly(lambda x1: Z.equal(x1,'blue','colour'),1,X)\", \"Z.exactly(lambda x1: Z.equal(x1,'blue','colour'),1,X)\", \"Z.exactly(lambda x1: Z.equal(x1,'blue','colour'),1,X)\", \"Z.exactly(lambda x1: Z.equal(x1,'blue','colour'),1,X)\", \"Z.exactly(lambda x1: Z.equal(x1,'blue','colour'),1,X)\", \"Z.exactly(lambda x1: Z.equal(x1,'blue','colour'),1,X)\", \"Z.exactly(lambda x1: Z.equal(x1,'blue','colour'),1,X)\", \"Z.exactly(lambda x1: Z.equal(x1,'blue','colour'),1,X)\", \"Z.exactly(lambda x1: Z.equal(x1,'blue','colour'),1,X)\", \"Z.exactly(lambda x1: Z.equal(x1,'blue','colour'),1,X)\", \"Z.exactly(lambda x1: Z.equal(x1,'blue','colour'),1,X)\", \"Z.exactly(lambda x1: Z.equal(x1,'blue','colour'),1,X)\", \"Z.exactly(lambda x1: Z.equal(x1,'blue','colour'),1,X)\", \"Z.exactly(lambda x1: Z.equal(x1,'blue','colour'),1,X)\", \"Z.exactly(lambda x1: Z.equal(x1,'blue','colour'),1,X)\", \"Z.exactly(lambda x1: Z.equal(x1,'blue','colour'),1,X)\", \"Z.exactly(lambda x1: Z.equal(x1,'blue','colour'),1,X)\", \"Z.exactly(lambda x1: Z.equal(x1,'blue','colour'),1,X)\", \"Z.exactly(lambda x1: Z.equal(x1,'blue','colour'),1,X)\", \"Z.exactly(lambda x1: Z.equal(x1,'blue','colour'),1,X)\", \"Z.exactly(lambda x1: Z.equal(x1,'blue','colour'),1,X)\", \"Z.exactly(lambda x1: Z.equal(x1,'blue','colour'),1,X)\", \"Z.exactly(lambda x1: Z.equal(x1,'blue','colour'),1,X)\", \"Z.exactly(lambda x1: Z.equal(x1,'blue','colour'),1,X)\", \"Z.exactly(lambda x1: Z.equal(x1,'blue','colour'),1,X)\", \"Z.exactly(lambda x1: Z.equal(x1,'blue','colour'),1,X)\", \"Z.exactly(lambda x1: Z.equal(x1,'blue','colour'),1,X)\", \"Z.exactly(lambda x1: Z.equal(x1,'blue','colour'),1,X)\", \"Z.exactly(lambda x1: Z.equal(x1,'blue','colour'),1,X)\", \"Z.exactly(lambda x1: Z.equal(x1,'blue','colour'),1,X)\", \"Z.exactly(lambda x1: Z.equal(x1,'blue','colour'),1,X)\", \"Z.exactly(lambda x1: Z.equal(x1,'blue','colour'),1,X)\", \"Z.exactly(lambda x1: Z.equal(x1,'blue','colour'),1,X)\", \"Z.exactly(lambda x1: Z.equal(x1,'blue','colour'),1,X)\", \"Z.exactly(lambda x1: Z.equal(x1,'blue','colour'),1,X)\", \"Z.exactly(lambda x1: Z.equal(x1,'blue','colour'),1,X)\", \"Z.exactly(lambda x1: Z.equal(x1,'blue','colour'),1,X)\", \"Z.exactly(lambda x1: Z.equal(x1,'blue','colour'),1,X)\", \"Z.exactly(lambda x1: Z.equal(x1,'blue','colour'),1,X)\", \"Z.exactly(lambda x1: Z.equal(x1,'blue','colour'),1,X)\", \"Z.exactly(lambda x1: Z.equal(x1,'blue','colour'),1,X)\", \"Z.exactly(lambda x1: Z.equal(x1,'blue','colour'),1,X)\", \"Z.exactly(lambda x1: Z.equal(x1,'blue','colour'),1,X)\", \"Z.exactly(lambda x1: Z.equal(x1,'blue','colour'),1,X)\", \"Z.exactly(lambda x1: Z.equal(x1,'blue','colour'),1,X)\", \"Z.exactly(lambda x1: Z.equal(x1,'blue','colour'),1,X)\", \"Z.exactly(lambda x1: Z.equal(x1,'blue','colour'),1,X)\", \"Z.exactly(lambda x1: Z.equal(x1,'blue','colour'),1,X)\", \"Z.exactly(lambda x1: Z.equal(x1,'blue','colour'),1,X)\", \"Z.exactly(lambda x1: Z.equal(x1,'blue','colour'),1,X)\", \"Z.exactly(lambda x1: Z.equal(x1,'blue','colour'),1,X)\", \"Z.exactly(lambda x1: Z.equal(x1,'blue','colour'),1,X)\", \"Z.exactly(lambda x1: Z.equal(x1,'blue','colour'),1,X)\", \"Z.exactly(lambda x1: Z.equal(x1,'blue','colour'),1,X)\", \"Z.exactly(lambda x1: Z.equal(x1,'blue','colour'),1,X)\", \"Z.exactly(lambda x1: Z.equal(x1,'blue','colour'),1,X)\", \"Z.exactly(lambda x1: Z.equal(x1,'blue','colour'),1,X)\", \"Z.exactly(lambda x1: Z.equal(x1,'blue','colour'),1,X)\", \"Z.exactly(lambda x1: Z.equal(x1,'blue','colour'),1,X)\", \"Z.exactly(lambda x1: Z.equal(x1,'blue','colour'),1,X)\", \"Z.exactly(lambda x1: Z.equal(x1,'blue','colour'),1,X)\", \"Z.exactly(lambda x1: Z.equal(x1,'blue','colour'),1,X)\", \"Z.exactly(lambda x1: Z.equal(x1,'blue','colour'),1,X)\", \"Z.exactly(lambda x1: Z.equal(x1,'blue','colour'),1,X)\", \"Z.exactly(lambda x1: Z.equal(x1,'blue','colour'),1,X)\", \"Z.exactly(lambda x1: Z.equal(x1,'blue','colour'),1,X)\", \"Z.exactly(lambda x1: Z.equal(x1,'blue','colour'),1,X)\", \"Z.exactly(lambda x1: Z.equal(x1,'blue','colour'),1,X)\", \"Z.exactly(lambda x1: Z.equal(x1,'blue','colour'),1,X)\", \"Z.exactly(lambda x1: Z.equal(x1,'blue','colour'),1,X)\", \"Z.exactly(lambda x1: Z.equal(x1,'blue','colour'),1,X)\", \"Z.exactly(lambda x1: Z.equal(x1,'blue','colour'),1,X)\", \"Z.exactly(lambda x1: Z.equal(x1,'blue','colour'),1,X)\", \"Z.exactly(lambda x1: Z.equal(x1,'blue','colour'),1,X)\", \"Z.exactly(lambda x1: Z.equal(x1,'blue','colour'),1,X)\", \"Z.exactly(lambda x1: Z.equal(x1,'blue','colour'),1,X)\", \"Z.exactly(lambda x1: Z.equal(x1,'blue','colour'),1,X)\", \"Z.exactly(lambda x1: Z.equal(x1,'blue','colour'),1,X)\", \"Z.exactly(lambda x1: Z.equal(x1,'blue','colour'),1,X)\", \"Z.exactly(lambda x1: Z.equal(x1,'blue','colour'),1,X)\", \"Z.exactly(lambda x1: Z.equal(x1,'blue','colour'),1,X)\", \"Z.exactly(lambda x1: Z.equal(x1,'blue','colour'),1,X)\", \"Z.exactly(lambda x1: Z.equal(x1,'blue','colour'),1,X)\", \"Z.exactly(lambda x1: Z.equal(x1,'blue','colour'),1,X)\", \"Z.exactly(lambda x1: Z.equal(x1,'blue','colour'),1,X)\", \"Z.exactly(lambda x1: Z.equal(x1,'blue','colour'),1,X)\", \"Z.exactly(lambda x1: Z.equal(x1,'blue','colour'),1,X)\", \"Z.exactly(lambda x1: Z.equal(x1,'blue','colour'),1,X)\", \"Z.exactly(lambda x1: Z.equal(x1,'blue','colour'),1,X)\", \"Z.exactly(lambda x1: Z.equal(x1,'blue','colour'),1,X)\", \"Z.exactly(lambda x1: Z.equal(x1,'blue','colour'),1,X)\", \"Z.exactly(lambda x1: Z.equal(x1,'blue','colour'),1,X)\", \"Z.exactly(lambda x1: Z.equal(x1,'blue','colour'),1,X)\", \"Z.exactly(lambda x1: Z.equal(x1,'blue','colour'),1,X)\", \"Z.exactly(lambda x1: Z.equal(x1,'blue','colour'),1,X)\", \"Z.exactly(lambda x1: Z.equal(x1,'blue','colour'),1,X)\", \"Z.exactly(lambda x1: Z.equal(x1,'blue','colour'),1,X)\", \"Z.exactly(lambda x1: Z.equal(x1,'blue','colour'),1,X)\", \"Z.exactly(lambda x1: Z.equal(x1,'blue','colour'),1,X)\", \"Z.exactly(lambda x1: Z.equal(x1,'blue','colour'),1,X)\", \"Z.exactly(lambda x1: Z.equal(x1,'blue','colour'),1,X)\", \"Z.exactly(lambda x1: Z.equal(x1,'blue','colour'),1,X)\", \"Z.exactly(lambda x1: Z.equal(x1,'blue','colour'),1,X)\", \"Z.exactly(lambda x1: Z.equal(x1,'blue','colour'),1,X)\", \"Z.exactly(lambda x1: Z.equal(x1,'blue','colour'),1,X)\", \"Z.exactly(lambda x1: Z.equal(x1,'blue','colour'),1,X)\", \"Z.exactly(lambda x1: Z.equal(x1,'blue','colour'),1,X)\", \"Z.exactly(lambda x1: Z.equal(x1,'blue','colour'),1,X)\", \"Z.exactly(lambda x1: Z.equal(x1,'blue','colour'),1,X)\", \"Z.exactly(lambda x1: Z.equal(x1,'blue','colour'),1,X)\", \"Z.exactly(lambda x1: Z.equal(x1,'blue','colour'),1,X)\", \"Z.exactly(lambda x1: Z.equal(x1,'blue','colour'),1,X)\", \"Z.exactly(lambda x1: Z.equal(x1,'blue','colour'),1,X)\", \"Z.exactly(lambda x1: Z.equal(x1,'blue','colour'),1,X)\", \"Z.exactly(lambda x1: Z.equal(x1,'blue','colour'),1,X)\", \"Z.exactly(lambda x1: Z.equal(x1,'blue','colour'),1,X)\", \"Z.exactly(lambda x1: Z.equal(x1,'blue','colour'),1,X)\", \"Z.exactly(lambda x1: Z.equal(x1,'blue','colour'),1,X)\", \"Z.exactly(lambda x1: Z.equal(x1,'blue','colour'),1,X)\", \"Z.exactly(lambda x1: Z.equal(x1,'blue','colour'),1,X)\", \"Z.exactly(lambda x1: Z.equal(x1,'blue','colour'),1,X)\", \"Z.exactly(lambda x1: Z.equal(x1,'blue','colour'),1,X)\", \"Z.exactly(lambda x1: Z.equal(x1,'blue','colour'),1,X)\", \"Z.exactly(lambda x1: Z.equal(x1,'blue','colour'),1,X)\", \"Z.exactly(lambda x1: Z.equal(x1,'blue','colour'),1,X)\", \"Z.exactly(lambda x1: Z.equal(x1,'blue','colour'),1,X)\", \"Z.exactly(lambda x1: Z.equal(x1,'blue','colour'),1,X)\", \"Z.exactly(lambda x1: Z.equal(x1,'blue','colour'),1,X)\", \"Z.exactly(lambda x1: Z.equal(x1,'blue','colour'),1,X)\", \"Z.exactly(lambda x1: Z.equal(x1,'blue','colour'),1,X)\", \"Z.exactly(lambda x1: Z.equal(x1,'blue','colour'),1,X)\", \"Z.exactly(lambda x1: Z.equal(x1,'blue','colour'),1,X)\", \"Z.exactly(lambda x1: Z.equal(x1,'blue','colour'),1,X)\", \"Z.exactly(lambda x1: Z.equal(x1,'blue','colour'),1,X)\", \"Z.exactly(lambda x1: Z.equal(x1,'blue','colour'),1,X)\", \"Z.exactly(lambda x1: Z.equal(x1,'blue','colour'),1,X)\", \"Z.exactly(lambda x1: Z.equal(x1,'blue','colour'),1,X)\", \"Z.exactly(lambda x1: Z.equal(x1,'blue','colour'),1,X)\", \"Z.exactly(lambda x1: Z.equal(x1,'blue','colour'),1,X)\", \"Z.exactly(lambda x1: Z.equal(x1,'blue','colour'),1,X)\", \"Z.exactly(lambda x1: Z.equal(x1,'blue','colour'),1,X)\", \"Z.exactly(lambda x1: Z.equal(x1,'blue','colour'),1,X)\", \"Z.exactly(lambda x1: Z.equal(x1,'blue','colour'),1,X)\", \"Z.exactly(lambda x1: Z.equal(x1,'blue','colour'),1,X)\", \"Z.exactly(lambda x1: Z.equal(x1,'blue','colour'),1,X)\", \"Z.exactly(lambda x1: Z.equal(x1,'blue','colour'),1,X)\", \"Z.exactly(lambda x1: Z.equal(x1,'blue','colour'),1,X)\", \"Z.exactly(lambda x1: Z.equal(x1,'blue','colour'),1,X)\", \"Z.exactly(lambda x1: Z.equal(x1,'blue','colour'),1,X)\", \"Z.exactly(lambda x1: Z.equal(x1,'blue','colour'),1,X)\", \"Z.exactly(lambda x1: Z.equal(x1,'blue','colour'),1,X)\", \"Z.exactly(lambda x1: Z.equal(x1,'blue','colour'),1,X)\", \"Z.exactly(lambda x1: Z.equal(x1,'blue','colour'),1,X)\", \"Z.exactly(lambda x1: Z.equal(x1,'blue','colour'),1,X)\", \"Z.exactly(lambda x1: Z.equal(x1,'blue','colour'),1,X)\", \"Z.exactly(lambda x1: Z.equal(x1,'blue','colour'),1,X)\", \"Z.exactly(lambda x1: Z.equal(x1,'blue','colour'),1,X)\", \"Z.exactly(lambda x1: Z.equal(x1,'blue','colour'),1,X)\", \"Z.exactly(lambda x1: Z.equal(x1,'blue','colour'),1,X)\", \"Z.exactly(lambda x1: Z.equal(x1,'blue','colour'),1,X)\", \"Z.exactly(lambda x1: Z.equal(x1,'blue','colour'),1,X)\", \"Z.exactly(lambda x1: Z.equal(x1,'blue','colour'),1,X)\", \"Z.exactly(lambda x1: Z.equal(x1,'blue','colour'),1,X)\", \"Z.exactly(lambda x1: Z.equal(x1,'blue','colour'),1,X)\", \"Z.exactly(lambda x1: Z.equal(x1,'blue','colour'),1,X)\", \"Z.exactly(lambda x1: Z.equal(x1,'blue','colour'),1,X)\", \"Z.exactly(lambda x1: Z.equal(x1,'blue','colour'),1,X)\", \"Z.exactly(lambda x1: Z.equal(x1,'blue','colour'),1,X)\", \"Z.exactly(lambda x1: Z.equal(x1,'blue','colour'),1,X)\", \"Z.exactly(lambda x1: Z.equal(x1,'blue','colour'),1,X)\", \"Z.exactly(lambda x1: Z.equal(x1,'blue','colour'),1,X)\", \"Z.exactly(lambda x1: Z.equal(x1,'blue','colour'),1,X)\", \"Z.exactly(lambda x1: Z.equal(x1,'blue','colour'),1,X)\", \"Z.exactly(lambda x1: Z.equal(x1,'blue','colour'),1,X)\", \"Z.exactly(lambda x1: Z.equal(x1,'blue','colour'),1,X)\", \"Z.exactly(lambda x1: Z.equal(x1,'blue','colour'),1,X)\", \"Z.exactly(lambda x1: Z.equal(x1,'blue','colour'),1,X)\", \"Z.exactly(lambda x1: Z.equal(x1,'blue','colour'),1,X)\", \"Z.exactly(lambda x1: Z.equal(x1,'blue','colour'),1,X)\", \"Z.exactly(lambda x1: Z.equal(x1,'blue','colour'),1,X)\", \"Z.exactly(lambda x1: Z.equal(x1,'blue','colour'),1,X)\", \"Z.exactly(lambda x1: Z.equal(x1,'blue','colour'),1,X)\", \"Z.exactly(lambda x1: Z.equal(x1,'blue','colour'),1,X)\", \"Z.exactly(lambda x1: Z.equal(x1,'blue','colour'),1,X)\", \"Z.exactly(lambda x1: Z.equal(x1,'blue','colour'),1,X)\", \"Z.exactly(lambda x1: Z.equal(x1,'blue','colour'),1,X)\", \"Z.exactly(lambda x1: Z.equal(x1,'blue','colour'),1,X)\", \"Z.exactly(lambda x1: Z.equal(x1,'blue','colour'),1,X)\", \"Z.exactly(lambda x1: Z.equal(x1,'blue','colour'),1,X)\", \"Z.exactly(lambda x1: Z.equal(x1,'blue','colour'),1,X)\", \"Z.exactly(lambda x1: Z.equal(x1,'blue','colour'),1,X)\", \"Z.exactly(lambda x1: Z.equal(x1,'blue','colour'),1,X)\", \"Z.exactly(lambda x1: Z.equal(x1,'blue','colour'),1,X)\", \"Z.exactly(lambda x1: Z.equal(x1,'blue','colour'),1,X)\", \"Z.exactly(lambda x1: Z.equal(x1,'blue','colour'),1,X)\", \"Z.exactly(lambda x1: Z.equal(x1,'blue','colour'),1,X)\", \"Z.exactly(lambda x1: Z.equal(x1,'blue','colour'),1,X)\", \"Z.exactly(lambda x1: Z.equal(x1,'blue','colour'),1,X)\", \"Z.exactly(lambda x1: Z.equal(x1,'blue','colour'),1,X)\", \"Z.exactly(lambda x1: Z.equal(x1,'blue','colour'),1,X)\", \"Z.exactly(lambda x1: Z.equal(x1,'blue','colour'),1,X)\", \"Z.exactly(lambda x1: Z.equal(x1,'blue','colour'),1,X)\", \"Z.exactly(lambda x1: Z.equal(x1,'blue','colour'),1,X)\", \"Z.exactly(lambda x1: Z.equal(x1,'blue','colour'),1,X)\", \"Z.exactly(lambda x1: Z.equal(x1,'blue','colour'),1,X)\", \"Z.exactly(lambda x1: Z.equal(x1,'blue','colour'),1,X)\", \"Z.exactly(lambda x1: Z.equal(x1,'blue','colour'),1,X)\", \"Z.exactly(lambda x1: Z.equal(x1,'blue','colour'),1,X)\", \"Z.exactly(lambda x1: Z.equal(x1,'blue','colour'),1,X)\", \"Z.exactly(lambda x1: Z.equal(x1,'blue','colour'),1,X)\", \"Z.exactly(lambda x1: Z.equal(x1,'blue','colour'),1,X)\", \"Z.exactly(lambda x1: Z.equal(x1,'blue','colour'),1,X)\", \"Z.exactly(lambda x1: Z.equal(x1,'blue','colour'),1,X)\", \"Z.exactly(lambda x1: Z.equal(x1,'blue','colour'),1,X)\", \"Z.exactly(lambda x1: Z.equal(x1,'blue','colour'),1,X)\", \"Z.exactly(lambda x1: Z.equal(x1,'blue','colour'),1,X)\", \"Z.exactly(lambda x1: Z.equal(x1,'blue','colour'),1,X)\", \"Z.exactly(lambda x1: Z.equal(x1,'blue','colour'),1,X)\", \"Z.exactly(lambda x1: Z.equal(x1,'blue','colour'),1,X)\", \"Z.exactly(lambda x1: Z.equal(x1,'blue','colour'),1,X)\", \"Z.exactly(lambda x1: Z.equal(x1,'blue','colour'),1,X)\", \"Z.exactly(lambda x1: Z.equal(x1,'blue','colour'),1,X)\", \"Z.exactly(lambda x1: Z.equal(x1,'blue','colour'),1,X)\", \"Z.exactly(lambda x1: Z.equal(x1,'blue','colour'),1,X)\", \"Z.exactly(lambda x1: Z.equal(x1,'blue','colour'),1,X)\", \"Z.exactly(lambda x1: Z.equal(x1,'blue','colour'),1,X)\", \"Z.exactly(lambda x1: Z.equal(x1,'blue','colour'),1,X)\", \"Z.exactly(lambda x1: Z.equal(x1,'blue','colour'),1,X)\", \"Z.exactly(lambda x1: Z.equal(x1,'blue','colour'),1,X)\", \"Z.exactly(lambda x1: Z.equal(x1,'blue','colour'),1,X)\", \"Z.exactly(lambda x1: Z.equal(x1,'blue','colour'),1,X)\", \"Z.exactly(lambda x1: Z.equal(x1,'blue','colour'),1,X)\", \"Z.exactly(lambda x1: Z.equal(x1,'blue','colour'),1,X)\", \"Z.exactly(lambda x1: Z.equal(x1,'blue','colour'),1,X)\", \"Z.exactly(lambda x1: Z.equal(x1,'blue','colour'),1,X)\", \"Z.exactly(lambda x1: Z.equal(x1,'blue','colour'),1,X)\", \"Z.exactly(lambda x1: Z.equal(x1,'blue','colour'),1,X)\", \"Z.exactly(lambda x1: Z.equal(x1,'blue','colour'),1,X)\", \"Z.exactly(lambda x1: Z.equal(x1,'blue','colour'),1,X)\", \"Z.exactly(lambda x1: Z.equal(x1,'blue','colour'),1,X)\", \"Z.exactly(lambda x1: Z.equal(x1,'blue','colour'),1,X)\", \"Z.exactly(lambda x1: Z.equal(x1,'blue','colour'),1,X)\", \"Z.exactly(lambda x1: Z.equal(x1,'blue','colour'),1,X)\", \"Z.exactly(lambda x1: Z.equal(x1,'blue','colour'),1,X)\", \"Z.exactly(lambda x1: Z.equal(x1,'blue','colour'),1,X)\", \"Z.exactly(lambda x1: Z.equal(x1,'blue','colour'),1,X)\", \"Z.exactly(lambda x1: Z.equal(x1,'blue','colour'),1,X)\", \"Z.exactly(lambda x1: Z.equal(x1,'blue','colour'),1,X)\", \"Z.exactly(lambda x1: Z.equal(x1,'blue','colour'),1,X)\", \"Z.exactly(lambda x1: Z.equal(x1,'blue','colour'),1,X)\", \"Z.exactly(lambda x1: Z.equal(x1,'blue','colour'),1,X)\", \"Z.exactly(lambda x1: Z.equal(x1,'blue','colour'),1,X)\", \"Z.exactly(lambda x1: Z.equal(x1,'blue','colour'),1,X)\", \"Z.exactly(lambda x1: Z.equal(x1,'blue','colour'),1,X)\", \"Z.exactly(lambda x1: Z.equal(x1,'blue','colour'),1,X)\", \"Z.exactly(lambda x1: Z.equal(x1,'blue','colour'),1,X)\", \"Z.exactly(lambda x1: Z.equal(x1,'blue','colour'),1,X)\", \"Z.exactly(lambda x1: Z.equal(x1,'blue','colour'),1,X)\", \"Z.exactly(lambda x1: Z.equal(x1,'blue','colour'),1,X)\", \"Z.exactly(lambda x1: Z.equal(x1,'blue','colour'),1,X)\", \"Z.exactly(lambda x1: Z.equal(x1,'blue','colour'),1,X)\", \"Z.exactly(lambda x1: Z.equal(x1,'blue','colour'),1,X)\", \"Z.exactly(lambda x1: Z.equal(x1,'blue','colour'),1,X)\", \"Z.exactly(lambda x1: Z.equal(x1,'blue','colour'),1,X)\", \"Z.exactly(lambda x1: Z.equal(x1,'blue','colour'),1,X)\", \"Z.exactly(lambda x1: Z.equal(x1,'blue','colour'),1,X)\", \"Z.exactly(lambda x1: Z.equal(x1,'blue','colour'),1,X)\", \"Z.exactly(lambda x1: Z.equal(x1,'blue','colour'),1,X)\", \"Z.exactly(lambda x1: Z.equal(x1,'blue','colour'),1,X)\", \"Z.exactly(lambda x1: Z.equal(x1,'blue','colour'),1,X)\", \"Z.exactly(lambda x1: Z.equal(x1,'blue','colour'),1,X)\", \"Z.exactly(lambda x1: Z.equal(x1,'blue','colour'),1,X)\", \"Z.exactly(lambda x1: Z.equal(x1,'blue','colour'),1,X)\", \"Z.exactly(lambda x1: Z.equal(x1,'blue','colour'),1,X)\", \"Z.exactly(lambda x1: Z.equal(x1,'blue','colour'),1,X)\", \"Z.exactly(lambda x1: Z.equal(x1,'blue','colour'),1,X)\", \"Z.exactly(lambda x1: Z.equal(x1,'blue','colour'),1,X)\", \"Z.exactly(lambda x1: Z.equal(x1,'blue','colour'),1,X)\", \"Z.exactly(lambda x1: Z.equal(x1,'blue','colour'),1,X)\", \"Z.exactly(lambda x1: Z.equal(x1,'blue','colour'),1,X)\", \"Z.exactly(lambda x1: Z.equal(x1,'blue','colour'),1,X)\", \"Z.exactly(lambda x1: Z.equal(x1,'blue','colour'),1,X)\", \"Z.exactly(lambda x1: Z.equal(x1,'blue','colour'),1,X)\", \"Z.exactly(lambda x1: Z.equal(x1,'blue','colour'),1,X)\", \"Z.exactly(lambda x1: Z.equal(x1,'blue','colour'),1,X)\", \"Z.exactly(lambda x1: Z.equal(x1,'blue','colour'),1,X)\", \"Z.exactly(lambda x1: Z.equal(x1,'blue','colour'),1,X)\", \"Z.exactly(lambda x1: Z.equal(x1,'blue','colour'),1,X)\", \"Z.exactly(lambda x1: Z.equal(x1,'blue','colour'),1,X)\", \"Z.exactly(lambda x1: Z.equal(x1,'blue','colour'),1,X)\", \"Z.exactly(lambda x1: Z.equal(x1,'blue','colour'),1,X)\", \"Z.exactly(lambda x1: Z.equal(x1,'blue','colour'),1,X)\", \"Z.exactly(lambda x1: Z.equal(x1,'blue','colour'),1,X)\", \"Z.exactly(lambda x1: Z.equal(x1,'blue','colour'),1,X)\", \"Z.exactly(lambda x1: Z.equal(x1,'blue','colour'),1,X)\", \"Z.exactly(lambda x1: Z.equal(x1,'blue','colour'),1,X)\", \"Z.exactly(lambda x1: Z.equal(x1,'blue','colour'),1,X)\", \"Z.exactly(lambda x1: Z.equal(x1,'blue','colour'),1,X)\", \"Z.exactly(lambda x1: Z.equal(x1,'blue','colour'),1,X)\", \"Z.exactly(lambda x1: Z.equal(x1,'blue','colour'),1,X)\", \"Z.exactly(lambda x1: Z.equal(x1,'blue','colour'),1,X)\", \"Z.exactly(lambda x1: Z.equal(x1,'blue','colour'),1,X)\", \"Z.exactly(lambda x1: Z.equal(x1,'blue','colour'),1,X)\", \"Z.exactly(lambda x1: Z.equal(x1,'blue','colour'),1,X)\", \"Z.exactly(lambda x1: Z.equal(x1,'blue','colour'),1,X)\", \"Z.exactly(lambda x1: Z.equal(x1,'blue','colour'),1,X)\", \"Z.exactly(lambda x1: Z.equal(x1,'blue','colour'),1,X)\", \"Z.exactly(lambda x1: Z.equal(x1,'blue','colour'),1,X)\", \"Z.exactly(lambda x1: Z.equal(x1,'blue','colour'),1,X)\", \"Z.exactly(lambda x1: Z.equal(x1,'blue','colour'),1,X)\", \"Z.exactly(lambda x1: Z.equal(x1,'blue','colour'),1,X)\", \"Z.exactly(lambda x1: Z.equal(x1,'blue','colour'),1,X)\", \"Z.exactly(lambda x1: Z.equal(x1,'blue','colour'),1,X)\", \"Z.exactly(lambda x1: Z.equal(x1,'blue','colour'),1,X)\", \"Z.exactly(lambda x1: Z.equal(x1,'blue','colour'),1,X)\", \"Z.exactly(lambda x1: Z.equal(x1,'blue','colour'),1,X)\", \"Z.exactly(lambda x1: Z.equal(x1,'blue','colour'),1,X)\", \"Z.exactly(lambda x1: Z.equal(x1,'blue','colour'),1,X)\", \"Z.exactly(lambda x1: Z.equal(x1,'blue','colour'),1,X)\", \"Z.exactly(lambda x1: Z.equal(x1,'blue','colour'),1,X)\", \"Z.exactly(lambda x1: Z.equal(x1,'blue','colour'),1,X)\", \"Z.exactly(lambda x1: Z.equal(x1,'blue','colour'),1,X)\", \"Z.exactly(lambda x1: Z.equal(x1,'blue','colour'),1,X)\", \"Z.exactly(lambda x1: Z.equal(x1,'blue','colour'),1,X)\", \"Z.exactly(lambda x1: Z.equal(x1,'blue','colour'),1,X)\", \"Z.exactly(lambda x1: Z.equal(x1,'blue','colour'),1,X)\", \"Z.exactly(lambda x1: Z.equal(x1,'blue','colour'),1,X)\", \"Z.exactly(lambda x1: Z.equal(x1,'blue','colour'),1,X)\", \"Z.exactly(lambda x1: Z.equal(x1,'blue','colour'),1,X)\", \"Z.exactly(lambda x1: Z.equal(x1,'blue','colour'),1,X)\", \"Z.exactly(lambda x1: Z.equal(x1,'blue','colour'),1,X)\", \"Z.exactly(lambda x1: Z.equal(x1,'blue','colour'),1,X)\", \"Z.exactly(lambda x1: Z.equal(x1,'blue','colour'),1,X)\", \"Z.exactly(lambda x1: Z.equal(x1,'blue','colour'),1,X)\", \"Z.exactly(lambda x1: Z.equal(x1,'blue','colour'),1,X)\", \"Z.exactly(lambda x1: Z.equal(x1,'blue','colour'),1,X)\", \"Z.exactly(lambda x1: Z.equal(x1,'blue','colour'),1,X)\", \"Z.exactly(lambda x1: Z.equal(x1,'blue','colour'),1,X)\", \"Z.exactly(lambda x1: Z.equal(x1,'blue','colour'),1,X)\", \"Z.exactly(lambda x1: Z.equal(x1,'blue','colour'),1,X)\", \"Z.exactly(lambda x1: Z.equal(x1,'blue','colour'),1,X)\", \"Z.exactly(lambda x1: Z.equal(x1,'blue','colour'),1,X)\", \"Z.exactly(lambda x1: Z.equal(x1,'blue','colour'),1,X)\", \"Z.exactly(lambda x1: Z.equal(x1,'blue','colour'),1,X)\", \"Z.exactly(lambda x1: Z.equal(x1,'blue','colour'),1,X)\", \"Z.exactly(lambda x1: Z.equal(x1,'blue','colour'),1,X)\", \"Z.exactly(lambda x1: Z.equal(x1,'blue','colour'),1,X)\", \"Z.exactly(lambda x1: Z.equal(x1,'blue','colour'),1,X)\", \"Z.exactly(lambda x1: Z.equal(x1,'blue','colour'),1,X)\", \"Z.exactly(lambda x1: Z.equal(x1,'blue','colour'),1,X)\", \"Z.exactly(lambda x1: Z.equal(x1,'blue','colour'),1,X)\", \"Z.exactly(lambda x1: Z.equal(x1,'blue','colour'),1,X)\", \"Z.exactly(lambda x1: Z.equal(x1,'blue','colour'),1,X)\", \"Z.exactly(lambda x1: Z.equal(x1,'blue','colour'),1,X)\", \"Z.exactly(lambda x1: Z.equal(x1,'blue','colour'),1,X)\", \"Z.exactly(lambda x1: Z.equal(x1,'blue','colour'),1,X)\", \"Z.exactly(lambda x1: Z.equal(x1,'blue','colour'),1,X)\", \"Z.exactly(lambda x1: Z.equal(x1,'blue','colour'),1,X)\", \"Z.exactly(lambda x1: Z.equal(x1,'blue','colour'),1,X)\", \"Z.exactly(lambda x1: Z.equal(x1,'blue','colour'),1,X)\", \"Z.exactly(lambda x1: Z.equal(x1,'blue','colour'),1,X)\", \"Z.exactly(lambda x1: Z.equal(x1,'blue','colour'),1,X)\", \"Z.exactly(lambda x1: Z.equal(x1,'blue','colour'),1,X)\", \"Z.exactly(lambda x1: Z.equal(x1,'blue','colour'),1,X)\", \"Z.exactly(lambda x1: Z.equal(x1,'blue','colour'),1,X)\", \"Z.exactly(lambda x1: Z.equal(x1,'blue','colour'),1,X)\", \"Z.exactly(lambda x1: Z.equal(x1,'blue','colour'),1,X)\", \"Z.exactly(lambda x1: Z.equal(x1,'blue','colour'),1,X)\", \"Z.exactly(lambda x1: Z.equal(x1,'blue','colour'),1,X)\", \"Z.exactly(lambda x1: Z.equal(x1,'blue','colour'),1,X)\", \"Z.exactly(lambda x1: Z.equal(x1,'blue','colour'),1,X)\", \"Z.exactly(lambda x1: Z.equal(x1,'blue','colour'),1,X)\", \"Z.exactly(lambda x1: Z.equal(x1,'blue','colour'),1,X)\", \"Z.exactly(lambda x1: Z.equal(x1,'blue','colour'),1,X)\", \"Z.exactly(lambda x1: Z.equal(x1,'blue','colour'),1,X)\", \"Z.exactly(lambda x1: Z.equal(x1,'blue','colour'),1,X)\", \"Z.exactly(lambda x1: Z.equal(x1,'blue','colour'),1,X)\", \"Z.exactly(lambda x1: Z.equal(x1,'blue','colour'),1,X)\", \"Z.exactly(lambda x1: Z.equal(x1,'blue','colour'),1,X)\", \"Z.exactly(lambda x1: Z.equal(x1,'blue','colour'),1,X)\", \"Z.exactly(lambda x1: Z.equal(x1,'blue','colour'),1,X)\", \"Z.exactly(lambda x1: Z.equal(x1,'blue','colour'),1,X)\", \"Z.exactly(lambda x1: Z.equal(x1,'blue','colour'),1,X)\", \"Z.exactly(lambda x1: Z.equal(x1,'blue','colour'),1,X)\", \"Z.exactly(lambda x1: Z.equal(x1,'blue','colour'),1,X)\", \"Z.exactly(lambda x1: Z.equal(x1,'blue','colour'),1,X)\", \"Z.exactly(lambda x1: Z.equal(x1,'blue','colour'),1,X)\", \"Z.exactly(lambda x1: Z.equal(x1,'blue','colour'),1,X)\", \"Z.exactly(lambda x1: Z.equal(x1,'blue','colour'),1,X)\", \"Z.exactly(lambda x1: Z.equal(x1,'blue','colour'),1,X)\", \"Z.exactly(lambda x1: Z.equal(x1,'blue','colour'),1,X)\", \"Z.exactly(lambda x1: Z.equal(x1,'blue','colour'),1,X)\", \"Z.exactly(lambda x1: Z.equal(x1,'blue','colour'),1,X)\", \"Z.exactly(lambda x1: Z.equal(x1,'blue','colour'),1,X)\", \"Z.exactly(lambda x1: Z.equal(x1,'blue','colour'),1,X)\", \"Z.exactly(lambda x1: Z.equal(x1,'blue','colour'),1,X)\", \"Z.exactly(lambda x1: Z.equal(x1,'blue','colour'),1,X)\", \"Z.exactly(lambda x1: Z.equal(x1,'blue','colour'),1,X)\", \"Z.exactly(lambda x1: Z.equal(x1,'blue','colour'),1,X)\", \"Z.exactly(lambda x1: Z.equal(x1,'blue','colour'),1,X)\", \"Z.exactly(lambda x1: Z.equal(x1,'blue','colour'),1,X)\", \"Z.exactly(lambda x1: Z.equal(x1,'blue','colour'),1,X)\", \"Z.exactly(lambda x1: Z.equal(x1,'blue','colour'),1,X)\", \"Z.exactly(lambda x1: Z.equal(x1,'blue','colour'),1,X)\", \"Z.exactly(lambda x1: Z.equal(x1,'blue','colour'),1,X)\", \"Z.exactly(lambda x1: Z.equal(x1,'blue','colour'),1,X)\", \"Z.exactly(lambda x1: Z.equal(x1,'blue','colour'),1,X)\", \"Z.exactly(lambda x1: Z.equal(x1,'blue','colour'),1,X)\", \"Z.exactly(lambda x1: Z.equal(x1,'blue','colour'),1,X)\", \"Z.exactly(lambda x1: Z.equal(x1,'blue','colour'),1,X)\", \"Z.exactly(lambda x1: Z.equal(x1,'blue','colour'),1,X)\", \"Z.exactly(lambda x1: Z.equal(x1,'blue','colour'),1,X)\", \"Z.exactly(lambda x1: Z.equal(x1,'blue','colour'),1,X)\", \"Z.exactly(lambda x1: Z.equal(x1,'blue','colour'),1,X)\", \"Z.exactly(lambda x1: Z.equal(x1,'blue','colour'),1,X)\", \"Z.exactly(lambda x1: Z.equal(x1,'blue','colour'),1,X)\", \"Z.exactly(lambda x1: Z.equal(x1,'blue','colour'),1,X)\", \"Z.exactly(lambda x1: Z.equal(x1,'blue','colour'),1,X)\", \"Z.exactly(lambda x1: Z.equal(x1,'blue','colour'),1,X)\", \"Z.exactly(lambda x1: Z.equal(x1,'blue','colour'),1,X)\", \"Z.exactly(lambda x1: Z.equal(x1,'blue','colour'),1,X)\", \"Z.exactly(lambda x1: Z.equal(x1,'blue','colour'),1,X)\", \"Z.exactly(lambda x1: Z.equal(x1,'blue','colour'),1,X)\", \"Z.exactly(lambda x1: Z.equal(x1,'blue','colour'),1,X)\", \"Z.exactly(lambda x1: Z.equal(x1,'blue','colour'),1,X)\", \"Z.exactly(lambda x1: Z.equal(x1,'blue','colour'),1,X)\", \"Z.exactly(lambda x1: Z.equal(x1,'blue','colour'),1,X)\", \"Z.exactly(lambda x1: Z.equal(x1,'blue','colour'),1,X)\", \"Z.exactly(lambda x1: Z.equal(x1,'blue','colour'),1,X)\", \"Z.exactly(lambda x1: Z.equal(x1,'blue','colour'),1,X)\", \"Z.exactly(lambda x1: Z.equal(x1,'blue','colour'),1,X)\", \"Z.exactly(lambda x1: Z.equal(x1,'blue','colour'),1,X)\", \"Z.exactly(lambda x1: Z.equal(x1,'blue','colour'),1,X)\", \"Z.exactly(lambda x1: Z.equal(x1,'blue','colour'),1,X)\", \"Z.exactly(lambda x1: Z.equal(x1,'blue','colour'),1,X)\", \"Z.exactly(lambda x1: Z.equal(x1,'blue','colour'),1,X)\", \"Z.exactly(lambda x1: Z.equal(x1,'blue','colour'),1,X)\", \"Z.exactly(lambda x1: Z.equal(x1,'blue','colour'),1,X)\", \"Z.exactly(lambda x1: Z.equal(x1,'blue','colour'),1,X)\", \"Z.exactly(lambda x1: Z.equal(x1,'blue','colour'),1,X)\", \"Z.exactly(lambda x1: Z.equal(x1,'blue','colour'),1,X)\", \"Z.exactly(lambda x1: Z.equal(x1,'blue','colour'),1,X)\", \"Z.exactly(lambda x1: Z.equal(x1,'blue','colour'),1,X)\", \"Z.exactly(lambda x1: Z.equal(x1,'blue','colour'),1,X)\", \"Z.exactly(lambda x1: Z.equal(x1,'blue','colour'),1,X)\", \"Z.exactly(lambda x1: Z.equal(x1,'blue','colour'),1,X)\", \"Z.exactly(lambda x1: Z.equal(x1,'blue','colour'),1,X)\", \"Z.exactly(lambda x1: Z.equal(x1,'blue','colour'),1,X)\", \"Z.exactly(lambda x1: Z.equal(x1,'blue','colour'),1,X)\", \"Z.exactly(lambda x1: Z.equal(x1,'blue','colour'),1,X)\", \"Z.exactly(lambda x1: Z.equal(x1,'blue','colour'),1,X)\", \"Z.exactly(lambda x1: Z.equal(x1,'blue','colour'),1,X)\", \"Z.exactly(lambda x1: Z.equal(x1,'blue','colour'),1,X)\", \"Z.exactly(lambda x1: Z.equal(x1,'blue','colour'),1,X)\", \"Z.exactly(lambda x1: Z.equal(x1,'blue','colour'),1,X)\", \"Z.exactly(lambda x1: Z.equal(x1,'blue','colour'),1,X)\", \"Z.exactly(lambda x1: Z.equal(x1,'blue','colour'),1,X)\", \"Z.exactly(lambda x1: Z.equal(x1,'blue','colour'),1,X)\", \"Z.exactly(lambda x1: Z.equal(x1,'blue','colour'),1,X)\", \"Z.exactly(lambda x1: Z.equal(x1,'blue','colour'),1,X)\", \"Z.exactly(lambda x1: Z.equal(x1,'blue','colour'),1,X)\", \"Z.exactly(lambda x1: Z.equal(x1,'blue','colour'),1,X)\", \"Z.exactly(lambda x1: Z.equal(x1,'blue','colour'),1,X)\", \"Z.exactly(lambda x1: Z.equal(x1,'blue','colour'),1,X)\", \"Z.exactly(lambda x1: Z.equal(x1,'blue','colour'),1,X)\", \"Z.exactly(lambda x1: Z.equal(x1,'blue','colour'),1,X)\", \"Z.exactly(lambda x1: Z.equal(x1,'blue','colour'),1,X)\", \"Z.exactly(lambda x1: Z.equal(x1,'blue','colour'),1,X)\", \"Z.exactly(lambda x1: Z.equal(x1,'blue','colour'),1,X)\", \"Z.exactly(lambda x1: Z.equal(x1,'blue','colour'),1,X)\", \"Z.exactly(lambda x1: Z.equal(x1,'blue','colour'),1,X)\", \"Z.exactly(lambda x1: Z.equal(x1,'blue','colour'),1,X)\", \"Z.exactly(lambda x1: Z.equal(x1,'blue','colour'),1,X)\", \"Z.exactly(lambda x1: Z.equal(x1,'blue','colour'),1,X)\", \"Z.exactly(lambda x1: Z.equal(x1,'blue','colour'),1,X)\", \"Z.exactly(lambda x1: Z.equal(x1,'blue','colour'),1,X)\", \"Z.exactly(lambda x1: Z.equal(x1,'blue','colour'),1,X)\", \"Z.exactly(lambda x1: Z.equal(x1,'blue','colour'),1,X)\", \"Z.exactly(lambda x1: Z.equal(x1,'blue','colour'),1,X)\", \"Z.exactly(lambda x1: Z.equal(x1,'blue','colour'),1,X)\", \"Z.exactly(lambda x1: Z.equal(x1,'blue','colour'),1,X)\", \"Z.exactly(lambda x1: Z.equal(x1,'blue','colour'),1,X)\", \"Z.exactly(lambda x1: Z.equal(x1,'blue','colour'),1,X)\", \"Z.exactly(lambda x1: Z.equal(x1,'blue','colour'),1,X)\", \"Z.exactly(lambda x1: Z.equal(x1,'blue','colour'),1,X)\", \"Z.exactly(lambda x1: Z.equal(x1,'blue','colour'),1,X)\", \"Z.exactly(lambda x1: Z.equal(x1,'blue','colour'),1,X)\", \"Z.exactly(lambda x1: Z.equal(x1,'blue','colour'),1,X)\", \"Z.exactly(lambda x1: Z.equal(x1,'blue','colour'),1,X)\", \"Z.exactly(lambda x1: Z.equal(x1,'blue','colour'),1,X)\", \"Z.exactly(lambda x1: Z.equal(x1,'blue','colour'),1,X)\", \"Z.exactly(lambda x1: Z.equal(x1,'blue','colour'),1,X)\", \"Z.exactly(lambda x1: Z.equal(x1,'blue','colour'),1,X)\", \"Z.exactly(lambda x1: Z.equal(x1,'blue','colour'),1,X)\", \"Z.exactly(lambda x1: Z.equal(x1,'blue','colour'),1,X)\", \"Z.exactly(lambda x1: Z.equal(x1,'blue','colour'),1,X)\", \"Z.exactly(lambda x1: Z.equal(x1,'blue','colour'),1,X)\", \"Z.exactly(lambda x1: Z.equal(x1,'blue','colour'),1,X)\", \"Z.exactly(lambda x1: Z.equal(x1,'blue','colour'),1,X)\", \"Z.exactly(lambda x1: Z.equal(x1,'blue','colour'),1,X)\", \"Z.exactly(lambda x1: Z.equal(x1,'blue','colour'),1,X)\", \"Z.exactly(lambda x1: Z.equal(x1,'blue','colour'),1,X)\", \"Z.exactly(lambda x1: Z.equal(x1,'blue','colour'),1,X)\", \"Z.exactly(lambda x1: Z.equal(x1,'blue','colour'),1,X)\", \"Z.exactly(lambda x1: Z.equal(x1,'blue','colour'),1,X)\", \"Z.exactly(lambda x1: Z.equal(x1,'blue','colour'),1,X)\", \"Z.exactly(lambda x1: Z.equal(x1,'blue','colour'),1,X)\", \"Z.exactly(lambda x1: Z.equal(x1,'blue','colour'),1,X)\", \"Z.exactly(lambda x1: Z.equal(x1,'blue','colour'),1,X)\", \"Z.exactly(lambda x1: Z.equal(x1,'blue','colour'),1,X)\", \"Z.exactly(lambda x1: Z.equal(x1,'blue','colour'),1,X)\", \"Z.exactly(lambda x1: Z.equal(x1,'blue','colour'),1,X)\", \"Z.exactly(lambda x1: Z.equal(x1,'blue','colour'),1,X)\", \"Z.exactly(lambda x1: Z.equal(x1,'blue','colour'),1,X)\", \"Z.exactly(lambda x1: Z.equal(x1,'blue','colour'),1,X)\", \"Z.exactly(lambda x1: Z.equal(x1,'blue','colour'),1,X)\", \"Z.exactly(lambda x1: Z.equal(x1,'blue','colour'),1,X)\", \"Z.exactly(lambda x1: Z.equal(x1,'blue','colour'),1,X)\", \"Z.exactly(lambda x1: Z.equal(x1,'blue','colour'),1,X)\", \"Z.exactly(lambda x1: Z.equal(x1,'blue','colour'),1,X)\", \"Z.exactly(lambda x1: Z.equal(x1,'blue','colour'),1,X)\", \"Z.exactly(lambda x1: Z.equal(x1,'blue','colour'),1,X)\", \"Z.exactly(lambda x1: Z.equal(x1,'blue','colour'),1,X)\", \"Z.exactly(lambda x1: Z.equal(x1,'blue','colour'),1,X)\", \"Z.exactly(lambda x1: Z.equal(x1,'blue','colour'),1,X)\", \"Z.exactly(lambda x1: Z.equal(x1,'blue','colour'),1,X)\", \"Z.exactly(lambda x1: Z.equal(x1,'blue','colour'),1,X)\", \"Z.exactly(lambda x1: Z.equal(x1,'blue','colour'),1,X)\", \"Z.exactly(lambda x1: Z.equal(x1,'blue','colour'),1,X)\", \"Z.exactly(lambda x1: Z.equal(x1,'blue','colour'),1,X)\", \"Z.exactly(lambda x1: Z.equal(x1,'blue','colour'),1,X)\", \"Z.exactly(lambda x1: Z.equal(x1,'blue','colour'),1,X)\", \"Z.exactly(lambda x1: Z.equal(x1,'blue','colour'),1,X)\", \"Z.exactly(lambda x1: Z.equal(x1,'blue','colour'),1,X)\", \"Z.exactly(lambda x1: Z.equal(x1,'blue','colour'),1,X)\", \"Z.exactly(lambda x1: Z.equal(x1,'blue','colour'),1,X)\", \"Z.exactly(lambda x1: Z.equal(x1,'blue','colour'),1,X)\", \"Z.exactly(lambda x1: Z.equal(x1,'blue','colour'),1,X)\", \"Z.exactly(lambda x1: Z.equal(x1,'blue','colour'),1,X)\", \"Z.exactly(lambda x1: Z.equal(x1,'blue','colour'),1,X)\", \"Z.exactly(lambda x1: Z.equal(x1,'blue','colour'),1,X)\", \"Z.exactly(lambda x1: Z.equal(x1,'blue','colour'),1,X)\", \"Z.exactly(lambda x1: Z.equal(x1,'blue','colour'),1,X)\", \"Z.exactly(lambda x1: Z.equal(x1,'blue','colour'),1,X)\", \"Z.exactly(lambda x1: Z.equal(x1,'blue','colour'),1,X)\", \"Z.exactly(lambda x1: Z.equal(x1,'blue','colour'),1,X)\", \"Z.exactly(lambda x1: Z.equal(x1,'blue','colour'),1,X)\", \"Z.exactly(lambda x1: Z.equal(x1,'blue','colour'),1,X)\", \"Z.exactly(lambda x1: Z.equal(x1,'blue','colour'),1,X)\", \"Z.exactly(lambda x1: Z.equal(x1,'blue','colour'),1,X)\", \"Z.exactly(lambda x1: Z.equal(x1,'blue','colour'),1,X)\", \"Z.exactly(lambda x1: Z.equal(x1,'blue','colour'),1,X)\", \"Z.exactly(lambda x1: Z.equal(x1,'blue','colour'),1,X)\", \"Z.exactly(lambda x1: Z.equal(x1,'blue','colour'),1,X)\", \"Z.exactly(lambda x1: Z.equal(x1,'blue','colour'),1,X)\", \"Z.exactly(lambda x1: Z.equal(x1,'blue','colour'),1,X)\", \"Z.exactly(lambda x1: Z.equal(x1,'blue','colour'),1,X)\", \"Z.exactly(lambda x1: Z.equal(x1,'blue','colour'),1,X)\", \"Z.exactly(lambda x1: Z.equal(x1,'blue','colour'),1,X)\", \"Z.exactly(lambda x1: Z.equal(x1,'blue','colour'),1,X)\", \"Z.exactly(lambda x1: Z.equal(x1,'blue','colour'),1,X)\", \"Z.exactly(lambda x1: Z.equal(x1,'blue','colour'),1,X)\", \"Z.exactly(lambda x1: Z.equal(x1,'blue','colour'),1,X)\", \"Z.exactly(lambda x1: Z.equal(x1,'blue','colour'),1,X)\", \"Z.exactly(lambda x1: Z.equal(x1,'blue','colour'),1,X)\", \"Z.exactly(lambda x1: Z.equal(x1,'blue','colour'),1,X)\", \"Z.exactly(lambda x1: Z.equal(x1,'blue','colour'),1,X)\", \"Z.exactly(lambda x1: Z.equal(x1,'blue','colour'),1,X)\", \"Z.exactly(lambda x1: Z.equal(x1,'blue','colour'),1,X)\", \"Z.exactly(lambda x1: Z.equal(x1,'blue','colour'),1,X)\", \"Z.exactly(lambda x1: Z.equal(x1,'blue','colour'),1,X)\", \"Z.exactly(lambda x1: Z.equal(x1,'blue','colour'),1,X)\", \"Z.exactly(lambda x1: Z.equal(x1,'blue','colour'),1,X)\", \"Z.exactly(lambda x1: Z.equal(x1,'blue','colour'),1,X)\", \"Z.exactly(lambda x1: Z.equal(x1,'blue','colour'),1,X)\", \"Z.exactly(lambda x1: Z.equal(x1,'blue','colour'),1,X)\", \"Z.exactly(lambda x1: Z.equal(x1,'blue','colour'),1,X)\", \"Z.exactly(lambda x1: Z.equal(x1,'blue','colour'),1,X)\", \"Z.exactly(lambda x1: Z.equal(x1,'blue','colour'),1,X)\", \"Z.exactly(lambda x1: Z.equal(x1,'blue','colour'),1,X)\", \"Z.exactly(lambda x1: Z.equal(x1,'blue','colour'),1,X)\", \"Z.exactly(lambda x1: Z.equal(x1,'blue','colour'),1,X)\", \"Z.exactly(lambda x1: Z.equal(x1,'blue','colour'),1,X)\", \"Z.exactly(lambda x1: Z.equal(x1,'blue','colour'),1,X)\", \"Z.exactly(lambda x1: Z.equal(x1,'blue','colour'),1,X)\", \"Z.exactly(lambda x1: Z.equal(x1,'blue','colour'),1,X)\", \"Z.exactly(lambda x1: Z.equal(x1,'blue','colour'),1,X)\", \"Z.exactly(lambda x1: Z.equal(x1,'blue','colour'),1,X)\", \"Z.exactly(lambda x1: Z.equal(x1,'blue','colour'),1,X)\", \"Z.exactly(lambda x1: Z.equal(x1,'blue','colour'),1,X)\", \"Z.exactly(lambda x1: Z.equal(x1,'blue','colour'),1,X)\", \"Z.exactly(lambda x1: Z.equal(x1,'blue','colour'),1,X)\", \"Z.exactly(lambda x1: Z.equal(x1,'blue','colour'),1,X)\", \"Z.exactly(lambda x1: Z.equal(x1,'blue','colour'),1,X)\", \"Z.exactly(lambda x1: Z.equal(x1,'blue','colour'),1,X)\", \"Z.exactly(lambda x1: Z.equal(x1,'blue','colour'),1,X)\", \"Z.exactly(lambda x1: Z.equal(x1,'blue','colour'),1,X)\", \"Z.exactly(lambda x1: Z.equal(x1,'blue','colour'),1,X)\", \"Z.exactly(lambda x1: Z.equal(x1,'blue','colour'),1,X)\", \"Z.exactly(lambda x1: Z.equal(x1,'blue','colour'),1,X)\", \"Z.exactly(lambda x1: Z.equal(x1,'blue','colour'),1,X)\", \"Z.exactly(lambda x1: Z.equal(x1,'blue','colour'),1,X)\", \"Z.exactly(lambda x1: Z.equal(x1,'blue','colour'),1,X)\", \"Z.exactly(lambda x1: Z.equal(x1,'blue','colour'),1,X)\", \"Z.exactly(lambda x1: Z.equal(x1,'blue','colour'),1,X)\", \"Z.exactly(lambda x1: Z.equal(x1,'blue','colour'),1,X)\", \"Z.exactly(lambda x1: Z.equal(x1,'blue','colour'),1,X)\", \"Z.exactly(lambda x1: Z.equal(x1,'blue','colour'),1,X)\", \"Z.exactly(lambda x1: Z.equal(x1,'blue','colour'),1,X)\", \"Z.exactly(lambda x1: Z.equal(x1,'blue','colour'),1,X)\", \"Z.exactly(lambda x1: Z.equal(x1,'blue','colour'),1,X)\", \"Z.exactly(lambda x1: Z.equal(x1,'blue','colour'),1,X)\", \"Z.exactly(lambda x1: Z.equal(x1,'blue','colour'),1,X)\", \"Z.exactly(lambda x1: Z.equal(x1,'blue','colour'),1,X)\", \"Z.exactly(lambda x1: Z.equal(x1,'blue','colour'),1,X)\", \"Z.exactly(lambda x1: Z.equal(x1,'blue','colour'),1,X)\", \"Z.exactly(lambda x1: Z.equal(x1,'blue','colour'),1,X)\", \"Z.exactly(lambda x1: Z.equal(x1,'blue','colour'),1,X)\", \"Z.exactly(lambda x1: Z.equal(x1,'blue','colour'),1,X)\", \"Z.exactly(lambda x1: Z.equal(x1,'blue','colour'),1,X)\", \"Z.exactly(lambda x1: Z.equal(x1,'blue','colour'),1,X)\", \"Z.exactly(lambda x1: Z.equal(x1,'blue','colour'),1,X)\", \"Z.exactly(lambda x1: Z.equal(x1,'blue','colour'),1,X)\", \"Z.exactly(lambda x1: Z.equal(x1,'blue','colour'),1,X)\", \"Z.exactly(lambda x1: Z.equal(x1,'blue','colour'),1,X)\", \"Z.exactly(lambda x1: Z.equal(x1,'blue','colour'),1,X)\", \"Z.exactly(lambda x1: Z.equal(x1,'blue','colour'),1,X)\", \"Z.exactly(lambda x1: Z.equal(x1,'blue','colour'),1,X)\", \"Z.exactly(lambda x1: Z.equal(x1,'blue','colour'),1,X)\", \"Z.exactly(lambda x1: Z.equal(x1,'blue','colour'),1,X)\", \"Z.exactly(lambda x1: Z.equal(x1,'blue','colour'),1,X)\", \"Z.exactly(lambda x1: Z.equal(x1,'blue','colour'),1,X)\", \"Z.exactly(lambda x1: Z.equal(x1,'blue','colour'),1,X)\", \"Z.exactly(lambda x1: Z.equal(x1,'blue','colour'),1,X)\", \"Z.exactly(lambda x1: Z.equal(x1,'blue','colour'),1,X)\", \"Z.exactly(lambda x1: Z.equal(x1,'blue','colour'),1,X)\", \"Z.exactly(lambda x1: Z.equal(x1,'blue','colour'),1,X)\", \"Z.exactly(lambda x1: Z.equal(x1,'blue','colour'),1,X)\", \"Z.exactly(lambda x1: Z.equal(x1,'blue','colour'),1,X)\", \"Z.exactly(lambda x1: Z.equal(x1,'blue','colour'),1,X)\", \"Z.exactly(lambda x1: Z.equal(x1,'blue','colour'),1,X)\", \"Z.exactly(lambda x1: Z.equal(x1,'blue','colour'),1,X)\", \"Z.exactly(lambda x1: Z.equal(x1,'blue','colour'),1,X)\", \"Z.exactly(lambda x1: Z.equal(x1,'blue','colour'),1,X)\", \"Z.exactly(lambda x1: Z.equal(x1,'blue','colour'),1,X)\", \"Z.exactly(lambda x1: Z.equal(x1,'blue','colour'),1,X)\", \"Z.exactly(lambda x1: Z.equal(x1,'blue','colour'),1,X)\", \"Z.exactly(lambda x1: Z.equal(x1,'blue','colour'),1,X)\", \"Z.exactly(lambda x1: Z.equal(x1,'blue','colour'),1,X)\", \"Z.exactly(lambda x1: Z.equal(x1,'blue','colour'),1,X)\", \"Z.exactly(lambda x1: Z.equal(x1,'blue','colour'),1,X)\", \"Z.exactly(lambda x1: Z.equal(x1,'blue','colour'),1,X)\", \"Z.exactly(lambda x1: Z.equal(x1,'blue','colour'),1,X)\", \"Z.exactly(lambda x1: Z.equal(x1,'blue','colour'),1,X)\", \"Z.exactly(lambda x1: Z.equal(x1,'blue','colour'),1,X)\", \"Z.exactly(lambda x1: Z.equal(x1,'blue','colour'),1,X)\", \"Z.exactly(lambda x1: Z.equal(x1,'blue','colour'),1,X)\", \"Z.exactly(lambda x1: Z.equal(x1,'blue','colour'),1,X)\", \"Z.exactly(lambda x1: Z.equal(x1,'blue','colour'),1,X)\", \"Z.exactly(lambda x1: Z.equal(x1,'blue','colour'),1,X)\", \"Z.exactly(lambda x1: Z.equal(x1,'blue','colour'),1,X)\", \"Z.exactly(lambda x1: Z.equal(x1,'blue','colour'),1,X)\", \"Z.exactly(lambda x1: Z.equal(x1,'blue','colour'),1,X)\", \"Z.exactly(lambda x1: Z.equal(x1,'blue','colour'),1,X)\", \"Z.exactly(lambda x1: Z.equal(x1,'blue','colour'),1,X)\", \"Z.exactly(lambda x1: Z.equal(x1,'blue','colour'),1,X)\", \"Z.exactly(lambda x1: Z.equal(x1,'blue','colour'),1,X)\", \"Z.exactly(lambda x1: Z.equal(x1,'blue','colour'),1,X)\", \"Z.exactly(lambda x1: Z.equal(x1,'blue','colour'),1,X)\", \"Z.exactly(lambda x1: Z.equal(x1,'blue','colour'),1,X)\", \"Z.exactly(lambda x1: Z.equal(x1,'blue','colour'),1,X)\", \"Z.exactly(lambda x1: Z.equal(x1,'blue','colour'),1,X)\", \"Z.exactly(lambda x1: Z.equal(x1,'blue','colour'),1,X)\", \"Z.exactly(lambda x1: Z.equal(x1,'blue','colour'),1,X)\", \"Z.exactly(lambda x1: Z.equal(x1,'blue','colour'),1,X)\", \"Z.exactly(lambda x1: Z.equal(x1,'blue','colour'),1,X)\", \"Z.exactly(lambda x1: Z.equal(x1,'blue','colour'),1,X)\", \"Z.exactly(lambda x1: Z.equal(x1,'blue','colour'),1,X)\", \"Z.exactly(lambda x1: Z.equal(x1,'blue','colour'),1,X)\", \"Z.exactly(lambda x1: Z.equal(x1,'blue','colour'),1,X)\", \"Z.exactly(lambda x1: Z.equal(x1,'blue','colour'),1,X)\", \"Z.exactly(lambda x1: Z.equal(x1,'blue','colour'),1,X)\", \"Z.exactly(lambda x1: Z.equal(x1,'blue','colour'),1,X)\", \"Z.exactly(lambda x1: Z.equal(x1,'blue','colour'),1,X)\", \"Z.exactly(lambda x1: Z.equal(x1,'blue','colour'),1,X)\", \"Z.exactly(lambda x1: Z.equal(x1,'blue','colour'),1,X)\", \"Z.exactly(lambda x1: Z.equal(x1,'blue','colour'),1,X)\", \"Z.exactly(lambda x1: Z.equal(x1,'blue','colour'),1,X)\", \"Z.exactly(lambda x1: Z.equal(x1,'blue','colour'),1,X)\", \"Z.exactly(lambda x1: Z.equal(x1,'blue','colour'),1,X)\", \"Z.exactly(lambda x1: Z.equal(x1,'blue','colour'),1,X)\", \"Z.exactly(lambda x1: Z.equal(x1,'blue','colour'),1,X)\", \"Z.exactly(lambda x1: Z.equal(x1,'blue','colour'),1,X)\", \"Z.exactly(lambda x1: Z.equal(x1,'blue','colour'),1,X)\", \"Z.exactly(lambda x1: Z.equal(x1,'blue','colour'),1,X)\", \"Z.exactly(lambda x1: Z.equal(x1,'blue','colour'),1,X)\", \"Z.exactly(lambda x1: Z.equal(x1,'blue','colour'),1,X)\", \"Z.exactly(lambda x1: Z.equal(x1,'blue','colour'),1,X)\", \"Z.exactly(lambda x1: Z.equal(x1,'blue','colour'),1,X)\", \"Z.exactly(lambda x1: Z.equal(x1,'blue','colour'),1,X)\", \"Z.exactly(lambda x1: Z.equal(x1,'blue','colour'),1,X)\", \"Z.exactly(lambda x1: Z.equal(x1,'blue','colour'),1,X)\", \"Z.exactly(lambda x1: Z.equal(x1,'blue','colour'),1,X)\", \"Z.exactly(lambda x1: Z.equal(x1,'blue','colour'),1,X)\", \"Z.exactly(lambda x1: Z.equal(x1,'blue','colour'),1,X)\", \"Z.exactly(lambda x1: Z.equal(x1,'blue','colour'),1,X)\", \"Z.exactly(lambda x1: Z.equal(x1,'blue','colour'),1,X)\", \"Z.exactly(lambda x1: Z.equal(x1,'blue','colour'),1,X)\", \"Z.exactly(lambda x1: Z.equal(x1,'blue','colour'),1,X)\", \"Z.exactly(lambda x1: Z.equal(x1,'blue','colour'),1,X)\", \"Z.exactly(lambda x1: Z.equal(x1,'blue','colour'),1,X)\", \"Z.exactly(lambda x1: Z.equal(x1,'blue','colour'),1,X)\", \"Z.exactly(lambda x1: Z.equal(x1,'blue','colour'),1,X)\", \"Z.exactly(lambda x1: Z.equal(x1,'blue','colour'),1,X)\", \"Z.exactly(lambda x1: Z.equal(x1,'blue','colour'),1,X)\", \"Z.exactly(lambda x1: Z.equal(x1,'blue','colour'),1,X)\", \"Z.exactly(lambda x1: Z.equal(x1,'blue','colour'),1,X)\", \"Z.exactly(lambda x1: Z.equal(x1,'blue','colour'),1,X)\", \"Z.exactly(lambda x1: Z.equal(x1,'blue','colour'),1,X)\", \"Z.exactly(lambda x1: Z.equal(x1,'blue','colour'),1,X)\", \"Z.exactly(lambda x1: Z.equal(x1,'blue','colour'),1,X)\", \"Z.exactly(lambda x1: Z.equal(x1,'blue','colour'),1,X)\", \"Z.exactly(lambda x1: Z.equal(x1,'blue','colour'),1,X)\", \"Z.exactly(lambda x1: Z.equal(x1,'blue','colour'),1,X)\", \"Z.exactly(lambda x1: Z.equal(x1,'blue','colour'),1,X)\", \"Z.exactly(lambda x1: Z.equal(x1,'blue','colour'),1,X)\", \"Z.exactly(lambda x1: Z.equal(x1,'blue','colour'),1,X)\", \"Z.exactly(lambda x1: Z.equal(x1,'blue','colour'),1,X)\", \"Z.exactly(lambda x1: Z.equal(x1,'blue','colour'),1,X)\", \"Z.exactly(lambda x1: Z.equal(x1,'blue','colour'),1,X)\", \"Z.exactly(lambda x1: Z.equal(x1,'blue','colour'),1,X)\", \"Z.exactly(lambda x1: Z.equal(x1,'blue','colour'),1,X)\", \"Z.exactly(lambda x1: Z.equal(x1,'blue','colour'),1,X)\", \"Z.exactly(lambda x1: Z.equal(x1,'blue','colour'),1,X)\", \"Z.exactly(lambda x1: Z.equal(x1,'blue','colour'),1,X)\", \"Z.exactly(lambda x1: Z.equal(x1,'blue','colour'),1,X)\", \"Z.exactly(lambda x1: Z.equal(x1,'blue','colour'),1,X)\", \"Z.exactly(lambda x1: Z.equal(x1,'blue','colour'),1,X)\", \"Z.exactly(lambda x1: Z.equal(x1,'blue','colour'),1,X)\", \"Z.exactly(lambda x1: Z.equal(x1,'blue','colour'),1,X)\", \"Z.exactly(lambda x1: Z.equal(x1,'blue','colour'),1,X)\", \"Z.exactly(lambda x1: Z.equal(x1,'blue','colour'),1,X)\", \"Z.exactly(lambda x1: Z.equal(x1,'blue','colour'),1,X)\", \"Z.exactly(lambda x1: Z.equal(x1,'blue','colour'),1,X)\", \"Z.exactly(lambda x1: Z.equal(x1,'blue','colour'),1,X)\", \"Z.exactly(lambda x1: Z.equal(x1,'blue','colour'),1,X)\", \"Z.exactly(lambda x1: Z.equal(x1,'blue','colour'),1,X)\", \"Z.exactly(lambda x1: Z.equal(x1,'blue','colour'),1,X)\", \"Z.exactly(lambda x1: Z.equal(x1,'blue','colour'),1,X)\", \"Z.exactly(lambda x1: Z.equal(x1,'blue','colour'),1,X)\", \"Z.exactly(lambda x1: Z.equal(x1,'blue','colour'),1,X)\", \"Z.exactly(lambda x1: Z.equal(x1,'blue','colour'),1,X)\", \"Z.exactly(lambda x1: Z.equal(x1,'blue','colour'),1,X)\", \"Z.exactly(lambda x1: Z.equal(x1,'blue','colour'),1,X)\", \"Z.exactly(lambda x1: Z.equal(x1,'blue','colour'),1,X)\", \"Z.exactly(lambda x1: Z.equal(x1,'blue','colour'),1,X)\", \"Z.exactly(lambda x1: Z.equal(x1,'blue','colour'),1,X)\", \"Z.exactly(lambda x1: Z.equal(x1,'blue','colour'),1,X)\", \"Z.exactly(lambda x1: Z.equal(x1,'blue','colour'),1,X)\", \"Z.exactly(lambda x1: Z.equal(x1,'blue','colour'),1,X)\", \"Z.exactly(lambda x1: Z.equal(x1,'blue','colour'),1,X)\", \"Z.exactly(lambda x1: Z.equal(x1,'blue','colour'),1,X)\", \"Z.exactly(lambda x1: Z.equal(x1,'blue','colour'),1,X)\", \"Z.exactly(lambda x1: Z.equal(x1,'blue','colour'),1,X)\", \"Z.exactly(lambda x1: Z.equal(x1,'blue','colour'),1,X)\", \"Z.exactly(lambda x1: Z.equal(x1,'blue','colour'),1,X)\", \"Z.exactly(lambda x1: Z.equal(x1,'blue','colour'),1,X)\", \"Z.exactly(lambda x1: Z.equal(x1,'blue','colour'),1,X)\", \"Z.exactly(lambda x1: Z.equal(x1,'blue','colour'),1,X)\", \"Z.exactly(lambda x1: Z.equal(x1,'blue','colour'),1,X)\", \"Z.exactly(lambda x1: Z.equal(x1,'blue','colour'),1,X)\", \"Z.exactly(lambda x1: Z.equal(x1,'blue','colour'),1,X)\", \"Z.exactly(lambda x1: Z.equal(x1,'blue','colour'),1,X)\", \"Z.exactly(lambda x1: Z.equal(x1,'blue','colour'),1,X)\", \"Z.exactly(lambda x1: Z.equal(x1,'blue','colour'),1,X)\", \"Z.exactly(lambda x1: Z.equal(x1,'blue','colour'),1,X)\", \"Z.exactly(lambda x1: Z.equal(x1,'blue','colour'),1,X)\", \"Z.exactly(lambda x1: Z.equal(x1,'blue','colour'),1,X)\", \"Z.exactly(lambda x1: Z.equal(x1,'blue','colour'),1,X)\", \"Z.exactly(lambda x1: Z.equal(x1,'blue','colour'),1,X)\", \"Z.exactly(lambda x1: Z.equal(x1,'blue','colour'),1,X)\", \"Z.exactly(lambda x1: Z.equal(x1,'blue','colour'),1,X)\", \"Z.exactly(lambda x1: Z.equal(x1,'blue','colour'),1,X)\", \"Z.exactly(lambda x1: Z.equal(x1,'blue','colour'),1,X)\", \"Z.exactly(lambda x1: Z.equal(x1,'blue','colour'),1,X)\", \"Z.exactly(lambda x1: Z.equal(x1,'blue','colour'),1,X)\", \"Z.exactly(lambda x1: Z.equal(x1,'blue','colour'),1,X)\", \"Z.exactly(lambda x1: Z.equal(x1,'blue','colour'),1,X)\", \"Z.exactly(lambda x1: Z.equal(x1,'blue','colour'),1,X)\", \"Z.exactly(lambda x1: Z.equal(x1,'blue','colour'),1,X)\", \"Z.exactly(lambda x1: Z.equal(x1,'blue','colour'),1,X)\", \"Z.exactly(lambda x1: Z.equal(x1,'blue','colour'),1,X)\", \"Z.exactly(lambda x1: Z.equal(x1,'blue','colour'),1,X)\", \"Z.exactly(lambda x1: Z.equal(x1,'blue','colour'),1,X)\", \"Z.exactly(lambda x1: Z.equal(x1,'blue','colour'),1,X)\", \"Z.exactly(lambda x1: Z.equal(x1,'blue','colour'),1,X)\", \"Z.exactly(lambda x1: Z.equal(x1,'blue','colour'),1,X)\", \"Z.exactly(lambda x1: Z.equal(x1,'blue','colour'),1,X)\", \"Z.exactly(lambda x1: Z.equal(x1,'blue','colour'),1,X)\", \"Z.exactly(lambda x1: Z.equal(x1,'blue','colour'),1,X)\", \"Z.exactly(lambda x1: Z.equal(x1,'blue','colour'),1,X)\", \"Z.exactly(lambda x1: Z.equal(x1,'blue','colour'),1,X)\", \"Z.exactly(lambda x1: Z.equal(x1,'blue','colour'),1,X)\", \"Z.exactly(lambda x1: Z.equal(x1,'blue','colour'),1,X)\", \"Z.exactly(lambda x1: Z.equal(x1,'blue','colour'),1,X)\", \"Z.exactly(lambda x1: Z.equal(x1,'blue','colour'),1,X)\", \"Z.exactly(lambda x1: Z.equal(x1,'blue','colour'),1,X)\", \"Z.exactly(lambda x1: Z.equal(x1,'blue','colour'),1,X)\", \"Z.exactly(lambda x1: Z.equal(x1,'blue','colour'),1,X)\", \"Z.exactly(lambda x1: Z.equal(x1,'blue','colour'),1,X)\", \"Z.exactly(lambda x1: Z.equal(x1,'blue','colour'),1,X)\", \"Z.exactly(lambda x1: Z.equal(x1,'blue','colour'),1,X)\", \"Z.exactly(lambda x1: Z.equal(x1,'blue','colour'),1,X)\", \"Z.exactly(lambda x1: Z.equal(x1,'blue','colour'),1,X)\", \"Z.exactly(lambda x1: Z.equal(x1,'blue','colour'),1,X)\", \"Z.exactly(lambda x1: Z.equal(x1,'blue','colour'),1,X)\", \"Z.exactly(lambda x1: Z.equal(x1,'blue','colour'),1,X)\", \"Z.exactly(lambda x1: Z.equal(x1,'blue','colour'),1,X)\", \"Z.exactly(lambda x1: Z.equal(x1,'blue','colour'),1,X)\", \"Z.exactly(lambda x1: Z.equal(x1,'blue','colour'),1,X)\", \"Z.exactly(lambda x1: Z.equal(x1,'blue','colour'),1,X)\", \"Z.exactly(lambda x1: Z.equal(x1,'blue','colour'),1,X)\", \"Z.exactly(lambda x1: Z.equal(x1,'blue','colour'),1,X)\", \"Z.exactly(lambda x1: Z.equal(x1,'blue','colour'),1,X)\", \"Z.exactly(lambda x1: Z.equal(x1,'blue','colour'),1,X)\", \"Z.exactly(lambda x1: Z.equal(x1,'blue','colour'),1,X)\", \"Z.exactly(lambda x1: Z.equal(x1,'blue','colour'),1,X)\", \"Z.exactly(lambda x1: Z.equal(x1,'blue','colour'),1,X)\", \"Z.exactly(lambda x1: Z.equal(x1,'blue','colour'),1,X)\", \"Z.exactly(lambda x1: Z.equal(x1,'blue','colour'),1,X)\", \"Z.exactly(lambda x1: Z.equal(x1,'blue','colour'),1,X)\", \"Z.exactly(lambda x1: Z.equal(x1,'blue','colour'),1,X)\", \"Z.exactly(lambda x1: Z.equal(x1,'blue','colour'),1,X)\", \"Z.exactly(lambda x1: Z.equal(x1,'blue','colour'),1,X)\", \"Z.exactly(lambda x1: Z.equal(x1,'blue','colour'),1,X)\", \"Z.exactly(lambda x1: Z.equal(x1,'blue','colour'),1,X)\", \"Z.exactly(lambda x1: Z.equal(x1,'blue','colour'),1,X)\", \"Z.exactly(lambda x1: Z.equal(x1,'blue','colour'),1,X)\", \"Z.exactly(lambda x1: Z.equal(x1,'blue','colour'),1,X)\", \"Z.exactly(lambda x1: Z.equal(x1,'blue','colour'),1,X)\", \"Z.exactly(lambda x1: Z.equal(x1,'blue','colour'),1,X)\", \"Z.exactly(lambda x1: Z.equal(x1,'blue','colour'),1,X)\", \"Z.exactly(lambda x1: Z.equal(x1,'blue','colour'),1,X)\", \"Z.exactly(lambda x1: Z.equal(x1,'blue','colour'),1,X)\", \"Z.exactly(lambda x1: Z.equal(x1,'blue','colour'),1,X)\", \"Z.exactly(lambda x1: Z.equal(x1,'blue','colour'),1,X)\", \"Z.exactly(lambda x1: Z.equal(x1,'blue','colour'),1,X)\", \"Z.exactly(lambda x1: Z.equal(x1,'blue','colour'),1,X)\", \"Z.exactly(lambda x1: Z.equal(x1,'blue','colour'),1,X)\", \"Z.exactly(lambda x1: Z.equal(x1,'blue','colour'),1,X)\", \"Z.exactly(lambda x1: Z.equal(x1,'blue','colour'),1,X)\", \"Z.exactly(lambda x1: Z.equal(x1,'blue','colour'),1,X)\", \"Z.exactly(lambda x1: Z.equal(x1,'blue','colour'),1,X)\", \"Z.exactly(lambda x1: Z.equal(x1,'blue','colour'),1,X)\", \"Z.exactly(lambda x1: Z.equal(x1,'blue','colour'),1,X)\", \"Z.exactly(lambda x1: Z.equal(x1,'blue','colour'),1,X)\", \"Z.exactly(lambda x1: Z.equal(x1,'blue','colour'),1,X)\", \"Z.exactly(lambda x1: Z.equal(x1,'blue','colour'),1,X)\", \"Z.exactly(lambda x1: Z.equal(x1,'blue','colour'),1,X)\", \"Z.exactly(lambda x1: Z.equal(x1,'blue','colour'),1,X)\", \"Z.exactly(lambda x1: Z.equal(x1,'blue','colour'),1,X)\", \"Z.exactly(lambda x1: Z.equal(x1,'blue','colour'),1,X)\", \"Z.exactly(lambda x1: Z.equal(x1,'blue','colour'),1,X)\", \"Z.exactly(lambda x1: Z.equal(x1,'blue','colour'),1,X)\", \"Z.exactly(lambda x1: Z.equal(x1,'blue','colour'),1,X)\"]\n"
     ]
    }
   ],
   "source": [
    "print(main_data_formatted['rules_post_all'][0])"
   ]
  },
  {
   "cell_type": "code",
   "execution_count": 1,
   "metadata": {},
   "outputs": [],
   "source": [
    "places = []\n",
    "\n",
    "# open file and read the content in a list\n",
    "with open('model_results/test6/rules_post_all.txt', 'r') as filehandle:\n",
    "    filecontents = filehandle.readlines()\n",
    "\n",
    "    for line in filecontents:\n",
    "        # remove linebreak which is the last character of the string\n",
    "        current_place = line[:-1]\n",
    "\n",
    "        # add item to the list\n",
    "        places.append(current_place)"
   ]
  },
  {
   "cell_type": "code",
   "execution_count": 4,
   "metadata": {},
   "outputs": [
    {
     "name": "stdout",
     "output_type": "stream",
     "text": [
      "2000\n",
      "2000\n",
      "2000\n",
      "2000\n",
      "2000\n",
      "2000\n",
      "2000\n",
      "1000\n",
      "2000\n",
      "2000\n",
      "1000\n",
      "2000\n",
      "2000\n",
      "2000\n",
      "2000\n",
      "2000\n",
      "2000\n",
      "2000\n",
      "1000\n",
      "2000\n",
      "1000\n",
      "2000\n",
      "2000\n",
      "1000\n",
      "2000\n",
      "2000\n",
      "1000\n",
      "2000\n",
      "2000\n",
      "1000\n",
      "2000\n",
      "2000\n",
      "2000\n",
      "2000\n",
      "2000\n",
      "2000\n",
      "2000\n",
      "2000\n",
      "2000\n",
      "2000\n",
      "2000\n",
      "2000\n",
      "1000\n",
      "2000\n",
      "2000\n",
      "2000\n",
      "2000\n",
      "2000\n",
      "2000\n",
      "1000\n",
      "2000\n",
      "1000\n",
      "1000\n",
      "2000\n",
      "1000\n",
      "2000\n",
      "2000\n",
      "2000\n",
      "2000\n",
      "2000\n",
      "2000\n",
      "2000\n",
      "2000\n",
      "2000\n",
      "2000\n",
      "2000\n",
      "2000\n",
      "2000\n",
      "1000\n",
      "2000\n",
      "1000\n",
      "2000\n",
      "2000\n",
      "2000\n",
      "2000\n",
      "2000\n",
      "1000\n",
      "2000\n",
      "1000\n",
      "2000\n",
      "2000\n",
      "2000\n"
     ]
    }
   ],
   "source": [
    "for i in places:\n",
    "    print(len(eval(i)))\n",
    "    "
   ]
  },
  {
   "cell_type": "code",
   "execution_count": 88,
   "metadata": {},
   "outputs": [
    {
     "name": "stdout",
     "output_type": "stream",
     "text": [
      "2\n"
     ]
    }
   ],
   "source": [
    "print(len(eval(places[3])))"
   ]
  },
  {
   "cell_type": "code",
   "execution_count": 75,
   "metadata": {},
   "outputs": [
    {
     "name": "stdout",
     "output_type": "stream",
     "text": [
      "81000\n"
     ]
    }
   ],
   "source": [
    "print(len(places[4]))"
   ]
  },
  {
   "cell_type": "code",
   "execution_count": null,
   "metadata": {},
   "outputs": [],
   "source": []
  }
 ],
 "metadata": {
  "kernelspec": {
   "display_name": "Python 3",
   "language": "python",
   "name": "python3"
  },
  "language_info": {
   "codemirror_mode": {
    "name": "ipython",
    "version": 3
   },
   "file_extension": ".py",
   "mimetype": "text/x-python",
   "name": "python",
   "nbconvert_exporter": "python",
   "pygments_lexer": "ipython3",
   "version": "3.7.1"
  }
 },
 "nbformat": 4,
 "nbformat_minor": 2
}
