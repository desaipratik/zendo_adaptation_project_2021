{
 "cells": [
  {
   "cell_type": "code",
   "execution_count": 21,
   "metadata": {},
   "outputs": [],
   "source": [
    "import pandas as pd\n",
    "import numpy as np\n",
    "rules = []\n",
    "with open('model_results/test4_split/rules_post_map_change.txt', 'r') as filehandle:\n",
    "    filecontents = filehandle.readlines()\n",
    "    for line in filecontents:\n",
    "        # remove linebreak which is the last character of the string\n",
    "        current_place = line[:-1]\n",
    "        # add item to the list\n",
    "        rules.append(current_place)"
   ]
  },
  {
   "cell_type": "code",
   "execution_count": 22,
   "metadata": {},
   "outputs": [
    {
     "name": "stdout",
     "output_type": "stream",
     "text": [
      "[\"Z.exactly(lambda x1: Z.exactly(lambda x2: Z.and_operator(Z.equal(x1,1,'size'),Z.equal(x2,2,'size')),1,X),2,X)\", \"Z.exactly(lambda x1: Z.exactly(lambda x2: Z.equal(x2,2,'size'),1,X),2,X)\"]\n"
     ]
    }
   ],
   "source": [
    "rules = [eval(rule) for rule in rules]\n",
    "rules_spec = []\n",
    "for i in rules[0]:\n",
    "    if i not in rules_spec:\n",
    "        rules_spec.append(i)\n",
    "print(rules_spec)"
   ]
  },
  {
   "cell_type": "code",
   "execution_count": 23,
   "metadata": {},
   "outputs": [
    {
     "name": "stdout",
     "output_type": "stream",
     "text": [
      "10\n"
     ]
    }
   ],
   "source": [
    "print(len(rules[0]))"
   ]
  },
  {
   "cell_type": "code",
   "execution_count": null,
   "metadata": {},
   "outputs": [],
   "source": []
  }
 ],
 "metadata": {
  "kernelspec": {
   "display_name": "Python 3",
   "language": "python",
   "name": "python3"
  },
  "language_info": {
   "codemirror_mode": {
    "name": "ipython",
    "version": 3
   },
   "file_extension": ".py",
   "mimetype": "text/x-python",
   "name": "python",
   "nbconvert_exporter": "python",
   "pygments_lexer": "ipython3",
   "version": "3.7.1"
  }
 },
 "nbformat": 4,
 "nbformat_minor": 2
}
