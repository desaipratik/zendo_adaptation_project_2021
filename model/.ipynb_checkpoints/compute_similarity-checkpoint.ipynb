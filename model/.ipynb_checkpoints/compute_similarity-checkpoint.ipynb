{
 "cells": [
  {
   "cell_type": "code",
   "execution_count": 1,
   "metadata": {},
   "outputs": [],
   "source": [
    "import numpy as np\n",
    "import pandas as pd\n",
    "import random as rd\n"
   ]
  },
  {
   "cell_type": "code",
   "execution_count": 2,
   "metadata": {},
   "outputs": [],
   "source": [
    "data = pd.read_csv('model_results/normative_res_one_0_c1_10k.csv')"
   ]
  },
  {
   "cell_type": "code",
   "execution_count": 3,
   "metadata": {},
   "outputs": [
    {
     "name": "stdout",
     "output_type": "stream",
     "text": [
      "0.8029359430604982\n"
     ]
    }
   ],
   "source": [
    "# subj similiarity \n",
    "subj_prior = list(data['prior'])\n",
    "subj_prior = [eval(i) for i in subj_prior]\n",
    "subj_prior = [i for sublist in subj_prior for i in sublist]\n",
    "\n",
    "subj_post = list(data['posterior'])\n",
    "subj_post = [eval(i) for i in subj_post]\n",
    "subj_post = [i for sublist in subj_post for i in sublist]\n",
    "\n",
    "similiarity = [prior and post or not prior and not post for prior, post in zip(subj_prior,subj_post)]\n",
    "similiarity = sum(similiarity) / len(similiarity)\n",
    "print(similiarity)"
   ]
  },
  {
   "cell_type": "code",
   "execution_count": 4,
   "metadata": {},
   "outputs": [
    {
     "name": "stdout",
     "output_type": "stream",
     "text": [
      "0.7486654804270463\n"
     ]
    }
   ],
   "source": [
    "# model similiarity \n",
    "mod_prior = list(data['raw_probs_all_subjects_prior'])\n",
    "mod_prior = [eval(i) for i in mod_prior]\n",
    "mod_prior = mod_prior[0]\n",
    "mod_post = [np.random.choice([True,False],p=[i,1-i]) for i in mod_prior]\n",
    "\n",
    "mod_post = list(data['raw_probs_all_subjects_post_all'])\n",
    "mod_post = [eval(i) for i in mod_post]\n",
    "mod_post = mod_post[0]\n",
    "mod_post = [np.random.choice([True,False],p=[i,1-i]) for i in mod_post]\n",
    "\n",
    "\n",
    "similiarity = [prior and post or not prior and not post for prior, post in zip(mod_prior,mod_post)]\n",
    "similiarity = sum(similiarity) / len(similiarity)\n",
    "print(similiarity)\n"
   ]
  },
  {
   "cell_type": "code",
   "execution_count": 13,
   "metadata": {},
   "outputs": [
    {
     "name": "stdout",
     "output_type": "stream",
     "text": [
      "0.2307288728919042\n",
      "0.7508896797153025\n"
     ]
    }
   ],
   "source": [
    "# descriptives \n",
    "from statistics import mean, stdev\n",
    "print(stdev(data['posterior_accuracy']))\n",
    "print(mean(data['posterior_accuracy']))\n",
    "# statistics t(data['prior_accuracy'], data['posterior_accuracy'])"
   ]
  },
  {
   "cell_type": "code",
   "execution_count": 53,
   "metadata": {},
   "outputs": [
    {
     "data": {
      "image/png": "[encoded data removed]",
      "text/plain": [
       "<Figure size 432x288 with 1 Axes>"
      ]
     },
     "metadata": {
      "needs_background": "light"
     },
     "output_type": "display_data"
    }
   ],
   "source": [
    "# normality checks \n",
    "# from matplotlib import pyplot as plt\n",
    "# %matplotlib inline\n",
    "# plot_data = pd.DataFrame({'means': [mean(data['prior_accuracy']), mean(data['posterior_accuracy']),mean(data['match_perc'])]},\n",
    "#                         index=[\"Init. Accuracy\", \"Rev. Accuracy\", \"Union\"])\n",
    "\n",
    "# plot_data['means'].plot(kind='Bar')\n",
    "# plt.xticks(rotation=0)\n",
    "# plt.errorbar(, y, xerr=0.2, yerr=0.4)\n",
    "# plt.ylabel(\"Percentage\")\n",
    "# plt.savefig('model_res_pdfs/c1_empirical_res.pdf')\n",
    "\n",
    "import numpy as np\n",
    "import matplotlib.pyplot as plt\n",
    "from scipy.stats import sem\n",
    "# if using a Jupyter notebook, include:\n",
    "%matplotlib inline\n",
    "\n",
    "x = [\"Init. Accuracy\", \"Rev. Accuracy\", \"Union\"]\n",
    "y = plot_data['means']\n",
    "yerr = [sem(data['prior_accuracy']), sem(data['posterior_accuracy']), sem(data['match_perc'])]\n",
    "\n",
    "\n",
    "fig, ax = plt.subplots()\n",
    "\n",
    "\n",
    "ax.bar(x, y,\n",
    "            yerr=yerr)\n",
    "\n",
    "\n",
    "ax.set_xlabel('')\n",
    "ax.set_ylabel('Percentage')\n",
    "ax.set_title('Empirical results and union for Exp. 1')\n",
    "\n",
    "plt.savefig('model_res_pdfs/c1_empirical_res.pdf')\n",
    "plt.show()\n",
    "\n",
    "\n",
    "\n",
    "\n"
   ]
  },
  {
   "cell_type": "code",
   "execution_count": 18,
   "metadata": {},
   "outputs": [
    {
     "data": {
      "text/plain": [
       "WilcoxonResult(statistic=1706.5, pvalue=7.243814512692132e-08)"
      ]
     },
     "execution_count": 18,
     "metadata": {},
     "output_type": "execute_result"
    }
   ],
   "source": [
    "# nonparametric t test \n",
    "from scipy.stats import wilcoxon\n",
    "wilcoxon(data['prior_accuracy'],data['posterior_accuracy'])"
   ]
  },
  {
   "cell_type": "code",
   "execution_count": null,
   "metadata": {},
   "outputs": [],
   "source": []
  }
 ],
 "metadata": {
  "kernelspec": {
   "display_name": "Python 3",
   "language": "python",
   "name": "python3"
  },
  "language_info": {
   "codemirror_mode": {
    "name": "ipython",
    "version": 3
   },
   "file_extension": ".py",
   "mimetype": "text/x-python",
   "name": "python",
   "nbconvert_exporter": "python",
   "pygments_lexer": "ipython3",
   "version": "3.7.1"
  }
 },
 "nbformat": 4,
 "nbformat_minor": 2
}
